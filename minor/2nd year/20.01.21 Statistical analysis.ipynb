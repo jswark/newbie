{
 "cells": [
  {
   "cell_type": "code",
   "execution_count": 2,
   "metadata": {},
   "outputs": [],
   "source": [
    "import pandas as pd\n",
    "import matplotlib as plt\n",
    "import scipy as sc\n",
    "#PyMC "
   ]
  },
  {
   "cell_type": "code",
   "execution_count": 30,
   "metadata": {},
   "outputs": [],
   "source": [
    "data=pd.read_csv('brain_size.csv', sep=';', na_values='.')"
   ]
  },
  {
   "cell_type": "code",
   "execution_count": 4,
   "metadata": {},
   "outputs": [
    {
     "data": {
      "text/html": [
       "<div>\n",
       "<style scoped>\n",
       "    .dataframe tbody tr th:only-of-type {\n",
       "        vertical-align: middle;\n",
       "    }\n",
       "\n",
       "    .dataframe tbody tr th {\n",
       "        vertical-align: top;\n",
       "    }\n",
       "\n",
       "    .dataframe thead th {\n",
       "        text-align: right;\n",
       "    }\n",
       "</style>\n",
       "<table border=\"1\" class=\"dataframe\">\n",
       "  <thead>\n",
       "    <tr style=\"text-align: right;\">\n",
       "      <th></th>\n",
       "      <th>Unnamed: 0</th>\n",
       "      <th>Gender</th>\n",
       "      <th>FSIQ</th>\n",
       "      <th>VIQ</th>\n",
       "      <th>PIQ</th>\n",
       "      <th>Weight</th>\n",
       "      <th>Height</th>\n",
       "      <th>MRI_Count</th>\n",
       "    </tr>\n",
       "  </thead>\n",
       "  <tbody>\n",
       "    <tr>\n",
       "      <th>0</th>\n",
       "      <td>1</td>\n",
       "      <td>Female</td>\n",
       "      <td>133</td>\n",
       "      <td>132</td>\n",
       "      <td>124</td>\n",
       "      <td>118.0</td>\n",
       "      <td>64.5</td>\n",
       "      <td>816932</td>\n",
       "    </tr>\n",
       "    <tr>\n",
       "      <th>1</th>\n",
       "      <td>2</td>\n",
       "      <td>Male</td>\n",
       "      <td>140</td>\n",
       "      <td>150</td>\n",
       "      <td>124</td>\n",
       "      <td>NaN</td>\n",
       "      <td>72.5</td>\n",
       "      <td>1001121</td>\n",
       "    </tr>\n",
       "    <tr>\n",
       "      <th>2</th>\n",
       "      <td>3</td>\n",
       "      <td>Male</td>\n",
       "      <td>139</td>\n",
       "      <td>123</td>\n",
       "      <td>150</td>\n",
       "      <td>143.0</td>\n",
       "      <td>73.3</td>\n",
       "      <td>1038437</td>\n",
       "    </tr>\n",
       "    <tr>\n",
       "      <th>3</th>\n",
       "      <td>4</td>\n",
       "      <td>Male</td>\n",
       "      <td>133</td>\n",
       "      <td>129</td>\n",
       "      <td>128</td>\n",
       "      <td>172.0</td>\n",
       "      <td>68.8</td>\n",
       "      <td>965353</td>\n",
       "    </tr>\n",
       "    <tr>\n",
       "      <th>4</th>\n",
       "      <td>5</td>\n",
       "      <td>Female</td>\n",
       "      <td>137</td>\n",
       "      <td>132</td>\n",
       "      <td>134</td>\n",
       "      <td>147.0</td>\n",
       "      <td>65.0</td>\n",
       "      <td>951545</td>\n",
       "    </tr>\n",
       "    <tr>\n",
       "      <th>5</th>\n",
       "      <td>6</td>\n",
       "      <td>Female</td>\n",
       "      <td>99</td>\n",
       "      <td>90</td>\n",
       "      <td>110</td>\n",
       "      <td>146.0</td>\n",
       "      <td>69.0</td>\n",
       "      <td>928799</td>\n",
       "    </tr>\n",
       "    <tr>\n",
       "      <th>6</th>\n",
       "      <td>7</td>\n",
       "      <td>Female</td>\n",
       "      <td>138</td>\n",
       "      <td>136</td>\n",
       "      <td>131</td>\n",
       "      <td>138.0</td>\n",
       "      <td>64.5</td>\n",
       "      <td>991305</td>\n",
       "    </tr>\n",
       "    <tr>\n",
       "      <th>7</th>\n",
       "      <td>8</td>\n",
       "      <td>Female</td>\n",
       "      <td>92</td>\n",
       "      <td>90</td>\n",
       "      <td>98</td>\n",
       "      <td>175.0</td>\n",
       "      <td>66.0</td>\n",
       "      <td>854258</td>\n",
       "    </tr>\n",
       "    <tr>\n",
       "      <th>8</th>\n",
       "      <td>9</td>\n",
       "      <td>Male</td>\n",
       "      <td>89</td>\n",
       "      <td>93</td>\n",
       "      <td>84</td>\n",
       "      <td>134.0</td>\n",
       "      <td>66.3</td>\n",
       "      <td>904858</td>\n",
       "    </tr>\n",
       "    <tr>\n",
       "      <th>9</th>\n",
       "      <td>10</td>\n",
       "      <td>Male</td>\n",
       "      <td>133</td>\n",
       "      <td>114</td>\n",
       "      <td>147</td>\n",
       "      <td>172.0</td>\n",
       "      <td>68.8</td>\n",
       "      <td>955466</td>\n",
       "    </tr>\n",
       "  </tbody>\n",
       "</table>\n",
       "</div>"
      ],
      "text/plain": [
       "   Unnamed: 0  Gender  FSIQ  VIQ  PIQ  Weight  Height  MRI_Count\n",
       "0           1  Female   133  132  124   118.0    64.5     816932\n",
       "1           2    Male   140  150  124     NaN    72.5    1001121\n",
       "2           3    Male   139  123  150   143.0    73.3    1038437\n",
       "3           4    Male   133  129  128   172.0    68.8     965353\n",
       "4           5  Female   137  132  134   147.0    65.0     951545\n",
       "5           6  Female    99   90  110   146.0    69.0     928799\n",
       "6           7  Female   138  136  131   138.0    64.5     991305\n",
       "7           8  Female    92   90   98   175.0    66.0     854258\n",
       "8           9    Male    89   93   84   134.0    66.3     904858\n",
       "9          10    Male   133  114  147   172.0    68.8     955466"
      ]
     },
     "execution_count": 4,
     "metadata": {},
     "output_type": "execute_result"
    }
   ],
   "source": [
    "data.head(10)"
   ]
  },
  {
   "cell_type": "code",
   "execution_count": 5,
   "metadata": {},
   "outputs": [],
   "source": [
    "import numpy as np\n",
    "x=np.linspace(-6,8,20)\n",
    "sinx=np.sin(x)\n",
    "cosx=np.cos(x)"
   ]
  },
  {
   "cell_type": "code",
   "execution_count": 6,
   "metadata": {},
   "outputs": [],
   "source": [
    "dd=pd.DataFrame({'x': x, 'sin x': sinx, 'cos x': cosx})"
   ]
  },
  {
   "cell_type": "code",
   "execution_count": 7,
   "metadata": {},
   "outputs": [
    {
     "data": {
      "text/html": [
       "<div>\n",
       "<style scoped>\n",
       "    .dataframe tbody tr th:only-of-type {\n",
       "        vertical-align: middle;\n",
       "    }\n",
       "\n",
       "    .dataframe tbody tr th {\n",
       "        vertical-align: top;\n",
       "    }\n",
       "\n",
       "    .dataframe thead th {\n",
       "        text-align: right;\n",
       "    }\n",
       "</style>\n",
       "<table border=\"1\" class=\"dataframe\">\n",
       "  <thead>\n",
       "    <tr style=\"text-align: right;\">\n",
       "      <th></th>\n",
       "      <th>x</th>\n",
       "      <th>sin x</th>\n",
       "      <th>cos x</th>\n",
       "    </tr>\n",
       "  </thead>\n",
       "  <tbody>\n",
       "    <tr>\n",
       "      <th>0</th>\n",
       "      <td>-6.000000</td>\n",
       "      <td>0.279415</td>\n",
       "      <td>0.960170</td>\n",
       "    </tr>\n",
       "    <tr>\n",
       "      <th>1</th>\n",
       "      <td>-5.263158</td>\n",
       "      <td>0.852122</td>\n",
       "      <td>0.523343</td>\n",
       "    </tr>\n",
       "    <tr>\n",
       "      <th>2</th>\n",
       "      <td>-4.526316</td>\n",
       "      <td>0.982738</td>\n",
       "      <td>-0.185001</td>\n",
       "    </tr>\n",
       "    <tr>\n",
       "      <th>3</th>\n",
       "      <td>-3.789474</td>\n",
       "      <td>0.603498</td>\n",
       "      <td>-0.797364</td>\n",
       "    </tr>\n",
       "    <tr>\n",
       "      <th>4</th>\n",
       "      <td>-3.052632</td>\n",
       "      <td>-0.088844</td>\n",
       "      <td>-0.996046</td>\n",
       "    </tr>\n",
       "    <tr>\n",
       "      <th>5</th>\n",
       "      <td>-2.315789</td>\n",
       "      <td>-0.735093</td>\n",
       "      <td>-0.677967</td>\n",
       "    </tr>\n",
       "    <tr>\n",
       "      <th>6</th>\n",
       "      <td>-1.578947</td>\n",
       "      <td>-0.999967</td>\n",
       "      <td>-0.008151</td>\n",
       "    </tr>\n",
       "    <tr>\n",
       "      <th>7</th>\n",
       "      <td>-0.842105</td>\n",
       "      <td>-0.746047</td>\n",
       "      <td>0.665894</td>\n",
       "    </tr>\n",
       "    <tr>\n",
       "      <th>8</th>\n",
       "      <td>-0.105263</td>\n",
       "      <td>-0.105069</td>\n",
       "      <td>0.994465</td>\n",
       "    </tr>\n",
       "    <tr>\n",
       "      <th>9</th>\n",
       "      <td>0.631579</td>\n",
       "      <td>0.590420</td>\n",
       "      <td>0.807096</td>\n",
       "    </tr>\n",
       "  </tbody>\n",
       "</table>\n",
       "</div>"
      ],
      "text/plain": [
       "          x     sin x     cos x\n",
       "0 -6.000000  0.279415  0.960170\n",
       "1 -5.263158  0.852122  0.523343\n",
       "2 -4.526316  0.982738 -0.185001\n",
       "3 -3.789474  0.603498 -0.797364\n",
       "4 -3.052632 -0.088844 -0.996046\n",
       "5 -2.315789 -0.735093 -0.677967\n",
       "6 -1.578947 -0.999967 -0.008151\n",
       "7 -0.842105 -0.746047  0.665894\n",
       "8 -0.105263 -0.105069  0.994465\n",
       "9  0.631579  0.590420  0.807096"
      ]
     },
     "execution_count": 7,
     "metadata": {},
     "output_type": "execute_result"
    }
   ],
   "source": [
    "dd.head(10)"
   ]
  },
  {
   "cell_type": "code",
   "execution_count": 12,
   "metadata": {},
   "outputs": [
    {
     "data": {
      "text/plain": [
       "(40, 8)"
      ]
     },
     "execution_count": 12,
     "metadata": {},
     "output_type": "execute_result"
    }
   ],
   "source": [
    "nn=data.shape\n",
    "nn"
   ]
  },
  {
   "cell_type": "code",
   "execution_count": 14,
   "metadata": {},
   "outputs": [
    {
     "data": {
      "text/plain": [
       "['Unnamed: 0', 'Gender', 'FSIQ', 'VIQ', 'PIQ', 'Weight', 'Height', 'MRI_Count']"
      ]
     },
     "execution_count": 14,
     "metadata": {},
     "output_type": "execute_result"
    }
   ],
   "source": [
    "dcolumns=data.columns.to_list()\n",
    "dcolumns"
   ]
  },
  {
   "cell_type": "code",
   "execution_count": 15,
   "metadata": {},
   "outputs": [
    {
     "name": "stdout",
     "output_type": "stream",
     "text": [
      "4\n",
      "Male\n",
      "133\n",
      "129\n",
      "128\n",
      "172.0\n",
      "68.8\n",
      "965353\n"
     ]
    }
   ],
   "source": [
    "for ll in dcolumns:\n",
    "    print(data[ll][3])"
   ]
  },
  {
   "cell_type": "code",
   "execution_count": 19,
   "metadata": {},
   "outputs": [
    {
     "data": {
      "text/plain": [
       "0     Female\n",
       "1       Male\n",
       "2       Male\n",
       "3       Male\n",
       "4     Female\n",
       "5     Female\n",
       "6     Female\n",
       "7     Female\n",
       "8       Male\n",
       "9       Male\n",
       "10    Female\n",
       "11      Male\n",
       "12      Male\n",
       "13    Female\n",
       "14    Female\n",
       "15    Female\n",
       "16    Female\n",
       "17      Male\n",
       "18    Female\n",
       "19      Male\n",
       "20      Male\n",
       "21      Male\n",
       "22    Female\n",
       "23      Male\n",
       "24    Female\n",
       "25      Male\n",
       "26    Female\n",
       "27      Male\n",
       "28    Female\n",
       "29    Female\n",
       "30    Female\n",
       "31      Male\n",
       "32      Male\n",
       "33      Male\n",
       "34    Female\n",
       "35    Female\n",
       "36      Male\n",
       "37    Female\n",
       "38      Male\n",
       "39      Male\n",
       "Name: Gender, dtype: object"
      ]
     },
     "execution_count": 19,
     "metadata": {},
     "output_type": "execute_result"
    }
   ],
   "source": [
    "data[dcolumns[1]]"
   ]
  },
  {
   "cell_type": "code",
   "execution_count": 20,
   "metadata": {},
   "outputs": [
    {
     "data": {
      "text/plain": [
       "110.45"
      ]
     },
     "execution_count": 20,
     "metadata": {},
     "output_type": "execute_result"
    }
   ],
   "source": [
    "data[data['Gender']=='Female']['PIQ'].mean()"
   ]
  },
  {
   "cell_type": "code",
   "execution_count": 21,
   "metadata": {},
   "outputs": [
    {
     "data": {
      "text/plain": [
       "0     124\n",
       "4     134\n",
       "5     110\n",
       "6     131\n",
       "7      98\n",
       "10    124\n",
       "13    147\n",
       "14     90\n",
       "15     96\n",
       "16    120\n",
       "18     84\n",
       "22    134\n",
       "24    102\n",
       "26     84\n",
       "28     72\n",
       "29    124\n",
       "30    132\n",
       "34     81\n",
       "35    128\n",
       "37     94\n",
       "Name: PIQ, dtype: int64"
      ]
     },
     "execution_count": 21,
     "metadata": {},
     "output_type": "execute_result"
    }
   ],
   "source": [
    "ll = data[data['Gender']=='Female']['PIQ']\n",
    "ll"
   ]
  },
  {
   "cell_type": "code",
   "execution_count": 25,
   "metadata": {},
   "outputs": [
    {
     "data": {
      "text/plain": [
       "pandas.core.series.Series"
      ]
     },
     "execution_count": 25,
     "metadata": {},
     "output_type": "execute_result"
    }
   ],
   "source": [
    "type(ll)"
   ]
  },
  {
   "cell_type": "code",
   "execution_count": 32,
   "metadata": {},
   "outputs": [
    {
     "data": {
      "text/html": [
       "<div>\n",
       "<style scoped>\n",
       "    .dataframe tbody tr th:only-of-type {\n",
       "        vertical-align: middle;\n",
       "    }\n",
       "\n",
       "    .dataframe tbody tr th {\n",
       "        vertical-align: top;\n",
       "    }\n",
       "\n",
       "    .dataframe thead th {\n",
       "        text-align: right;\n",
       "    }\n",
       "</style>\n",
       "<table border=\"1\" class=\"dataframe\">\n",
       "  <thead>\n",
       "    <tr style=\"text-align: right;\">\n",
       "      <th></th>\n",
       "      <th>Unnamed: 0</th>\n",
       "      <th>Gender</th>\n",
       "      <th>FSIQ</th>\n",
       "      <th>VIQ</th>\n",
       "      <th>PIQ</th>\n",
       "      <th>Weight</th>\n",
       "      <th>Height</th>\n",
       "      <th>MRI_Count</th>\n",
       "    </tr>\n",
       "  </thead>\n",
       "  <tbody>\n",
       "    <tr>\n",
       "      <th>1</th>\n",
       "      <td>2</td>\n",
       "      <td>Male</td>\n",
       "      <td>140</td>\n",
       "      <td>150</td>\n",
       "      <td>124</td>\n",
       "      <td>NaN</td>\n",
       "      <td>72.5</td>\n",
       "      <td>1001121</td>\n",
       "    </tr>\n",
       "    <tr>\n",
       "      <th>2</th>\n",
       "      <td>3</td>\n",
       "      <td>Male</td>\n",
       "      <td>139</td>\n",
       "      <td>123</td>\n",
       "      <td>150</td>\n",
       "      <td>143.0</td>\n",
       "      <td>73.3</td>\n",
       "      <td>1038437</td>\n",
       "    </tr>\n",
       "    <tr>\n",
       "      <th>3</th>\n",
       "      <td>4</td>\n",
       "      <td>Male</td>\n",
       "      <td>133</td>\n",
       "      <td>129</td>\n",
       "      <td>128</td>\n",
       "      <td>172.0</td>\n",
       "      <td>68.8</td>\n",
       "      <td>965353</td>\n",
       "    </tr>\n",
       "    <tr>\n",
       "      <th>9</th>\n",
       "      <td>10</td>\n",
       "      <td>Male</td>\n",
       "      <td>133</td>\n",
       "      <td>114</td>\n",
       "      <td>147</td>\n",
       "      <td>172.0</td>\n",
       "      <td>68.8</td>\n",
       "      <td>955466</td>\n",
       "    </tr>\n",
       "    <tr>\n",
       "      <th>11</th>\n",
       "      <td>12</td>\n",
       "      <td>Male</td>\n",
       "      <td>141</td>\n",
       "      <td>150</td>\n",
       "      <td>128</td>\n",
       "      <td>151.0</td>\n",
       "      <td>70.0</td>\n",
       "      <td>1079549</td>\n",
       "    </tr>\n",
       "    <tr>\n",
       "      <th>12</th>\n",
       "      <td>13</td>\n",
       "      <td>Male</td>\n",
       "      <td>135</td>\n",
       "      <td>129</td>\n",
       "      <td>124</td>\n",
       "      <td>155.0</td>\n",
       "      <td>69.0</td>\n",
       "      <td>924059</td>\n",
       "    </tr>\n",
       "    <tr>\n",
       "      <th>21</th>\n",
       "      <td>22</td>\n",
       "      <td>Male</td>\n",
       "      <td>97</td>\n",
       "      <td>107</td>\n",
       "      <td>84</td>\n",
       "      <td>186.0</td>\n",
       "      <td>76.5</td>\n",
       "      <td>905940</td>\n",
       "    </tr>\n",
       "    <tr>\n",
       "      <th>23</th>\n",
       "      <td>24</td>\n",
       "      <td>Male</td>\n",
       "      <td>139</td>\n",
       "      <td>145</td>\n",
       "      <td>128</td>\n",
       "      <td>132.0</td>\n",
       "      <td>68.0</td>\n",
       "      <td>955003</td>\n",
       "    </tr>\n",
       "    <tr>\n",
       "      <th>25</th>\n",
       "      <td>26</td>\n",
       "      <td>Male</td>\n",
       "      <td>141</td>\n",
       "      <td>145</td>\n",
       "      <td>131</td>\n",
       "      <td>171.0</td>\n",
       "      <td>72.0</td>\n",
       "      <td>935494</td>\n",
       "    </tr>\n",
       "    <tr>\n",
       "      <th>31</th>\n",
       "      <td>32</td>\n",
       "      <td>Male</td>\n",
       "      <td>144</td>\n",
       "      <td>145</td>\n",
       "      <td>137</td>\n",
       "      <td>191.0</td>\n",
       "      <td>67.0</td>\n",
       "      <td>949589</td>\n",
       "    </tr>\n",
       "    <tr>\n",
       "      <th>36</th>\n",
       "      <td>37</td>\n",
       "      <td>Male</td>\n",
       "      <td>140</td>\n",
       "      <td>150</td>\n",
       "      <td>124</td>\n",
       "      <td>144.0</td>\n",
       "      <td>70.5</td>\n",
       "      <td>949395</td>\n",
       "    </tr>\n",
       "  </tbody>\n",
       "</table>\n",
       "</div>"
      ],
      "text/plain": [
       "    Unnamed: 0 Gender  FSIQ  VIQ  PIQ  Weight  Height  MRI_Count\n",
       "1            2   Male   140  150  124     NaN    72.5    1001121\n",
       "2            3   Male   139  123  150   143.0    73.3    1038437\n",
       "3            4   Male   133  129  128   172.0    68.8     965353\n",
       "9           10   Male   133  114  147   172.0    68.8     955466\n",
       "11          12   Male   141  150  128   151.0    70.0    1079549\n",
       "12          13   Male   135  129  124   155.0    69.0     924059\n",
       "21          22   Male    97  107   84   186.0    76.5     905940\n",
       "23          24   Male   139  145  128   132.0    68.0     955003\n",
       "25          26   Male   141  145  131   171.0    72.0     935494\n",
       "31          32   Male   144  145  137   191.0    67.0     949589\n",
       "36          37   Male   140  150  124   144.0    70.5     949395"
      ]
     },
     "execution_count": 32,
     "metadata": {},
     "output_type": "execute_result"
    }
   ],
   "source": [
    "data[(data['Gender']=='Male') & (data['VIQ']>100)]"
   ]
  },
  {
   "cell_type": "code",
   "execution_count": 35,
   "metadata": {},
   "outputs": [],
   "source": [
    "grGen = data.groupby('Gender')"
   ]
  },
  {
   "cell_type": "code",
   "execution_count": 37,
   "metadata": {},
   "outputs": [
    {
     "name": "stdout",
     "output_type": "stream",
     "text": [
      "Female 110.45\n",
      "Male 111.6\n"
     ]
    }
   ],
   "source": [
    "for gen, value in grGen['PIQ']:\n",
    "    print(gen, value.mean())"
   ]
  },
  {
   "cell_type": "code",
   "execution_count": 38,
   "metadata": {},
   "outputs": [
    {
     "data": {
      "text/html": [
       "<div>\n",
       "<style scoped>\n",
       "    .dataframe tbody tr th:only-of-type {\n",
       "        vertical-align: middle;\n",
       "    }\n",
       "\n",
       "    .dataframe tbody tr th {\n",
       "        vertical-align: top;\n",
       "    }\n",
       "\n",
       "    .dataframe thead th {\n",
       "        text-align: right;\n",
       "    }\n",
       "</style>\n",
       "<table border=\"1\" class=\"dataframe\">\n",
       "  <thead>\n",
       "    <tr style=\"text-align: right;\">\n",
       "      <th></th>\n",
       "      <th>Unnamed: 0</th>\n",
       "      <th>FSIQ</th>\n",
       "      <th>VIQ</th>\n",
       "      <th>PIQ</th>\n",
       "      <th>Weight</th>\n",
       "      <th>Height</th>\n",
       "      <th>MRI_Count</th>\n",
       "    </tr>\n",
       "    <tr>\n",
       "      <th>Gender</th>\n",
       "      <th></th>\n",
       "      <th></th>\n",
       "      <th></th>\n",
       "      <th></th>\n",
       "      <th></th>\n",
       "      <th></th>\n",
       "      <th></th>\n",
       "    </tr>\n",
       "  </thead>\n",
       "  <tbody>\n",
       "    <tr>\n",
       "      <th>Female</th>\n",
       "      <td>38</td>\n",
       "      <td>140</td>\n",
       "      <td>136</td>\n",
       "      <td>147</td>\n",
       "      <td>175.0</td>\n",
       "      <td>70.5</td>\n",
       "      <td>991305</td>\n",
       "    </tr>\n",
       "    <tr>\n",
       "      <th>Male</th>\n",
       "      <td>40</td>\n",
       "      <td>144</td>\n",
       "      <td>150</td>\n",
       "      <td>150</td>\n",
       "      <td>192.0</td>\n",
       "      <td>77.0</td>\n",
       "      <td>1079549</td>\n",
       "    </tr>\n",
       "  </tbody>\n",
       "</table>\n",
       "</div>"
      ],
      "text/plain": [
       "        Unnamed: 0  FSIQ  VIQ  PIQ  Weight  Height  MRI_Count\n",
       "Gender                                                       \n",
       "Female          38   140  136  147   175.0    70.5     991305\n",
       "Male            40   144  150  150   192.0    77.0    1079549"
      ]
     },
     "execution_count": 38,
     "metadata": {},
     "output_type": "execute_result"
    }
   ],
   "source": [
    "grGen.max()"
   ]
  },
  {
   "cell_type": "code",
   "execution_count": 39,
   "metadata": {},
   "outputs": [
    {
     "data": {
      "text/html": [
       "<div>\n",
       "<style scoped>\n",
       "    .dataframe tbody tr th:only-of-type {\n",
       "        vertical-align: middle;\n",
       "    }\n",
       "\n",
       "    .dataframe tbody tr th {\n",
       "        vertical-align: top;\n",
       "    }\n",
       "\n",
       "    .dataframe thead th {\n",
       "        text-align: right;\n",
       "    }\n",
       "</style>\n",
       "<table border=\"1\" class=\"dataframe\">\n",
       "  <thead>\n",
       "    <tr style=\"text-align: right;\">\n",
       "      <th></th>\n",
       "      <th>Unnamed: 0</th>\n",
       "      <th>FSIQ</th>\n",
       "      <th>VIQ</th>\n",
       "      <th>PIQ</th>\n",
       "      <th>Weight</th>\n",
       "      <th>Height</th>\n",
       "      <th>MRI_Count</th>\n",
       "    </tr>\n",
       "    <tr>\n",
       "      <th>Gender</th>\n",
       "      <th></th>\n",
       "      <th></th>\n",
       "      <th></th>\n",
       "      <th></th>\n",
       "      <th></th>\n",
       "      <th></th>\n",
       "      <th></th>\n",
       "    </tr>\n",
       "  </thead>\n",
       "  <tbody>\n",
       "    <tr>\n",
       "      <th>Female</th>\n",
       "      <td>1</td>\n",
       "      <td>77</td>\n",
       "      <td>71</td>\n",
       "      <td>72</td>\n",
       "      <td>106.0</td>\n",
       "      <td>62.0</td>\n",
       "      <td>790619</td>\n",
       "    </tr>\n",
       "    <tr>\n",
       "      <th>Male</th>\n",
       "      <td>2</td>\n",
       "      <td>80</td>\n",
       "      <td>77</td>\n",
       "      <td>74</td>\n",
       "      <td>132.0</td>\n",
       "      <td>66.3</td>\n",
       "      <td>879987</td>\n",
       "    </tr>\n",
       "  </tbody>\n",
       "</table>\n",
       "</div>"
      ],
      "text/plain": [
       "        Unnamed: 0  FSIQ  VIQ  PIQ  Weight  Height  MRI_Count\n",
       "Gender                                                       \n",
       "Female           1    77   71   72   106.0    62.0     790619\n",
       "Male             2    80   77   74   132.0    66.3     879987"
      ]
     },
     "execution_count": 39,
     "metadata": {},
     "output_type": "execute_result"
    }
   ],
   "source": [
    "grGen.min()"
   ]
  },
  {
   "cell_type": "code",
   "execution_count": 40,
   "metadata": {},
   "outputs": [
    {
     "data": {
      "text/html": [
       "<div>\n",
       "<style scoped>\n",
       "    .dataframe tbody tr th:only-of-type {\n",
       "        vertical-align: middle;\n",
       "    }\n",
       "\n",
       "    .dataframe tbody tr th {\n",
       "        vertical-align: top;\n",
       "    }\n",
       "\n",
       "    .dataframe thead th {\n",
       "        text-align: right;\n",
       "    }\n",
       "</style>\n",
       "<table border=\"1\" class=\"dataframe\">\n",
       "  <thead>\n",
       "    <tr style=\"text-align: right;\">\n",
       "      <th></th>\n",
       "      <th>Unnamed: 0</th>\n",
       "      <th>FSIQ</th>\n",
       "      <th>VIQ</th>\n",
       "      <th>PIQ</th>\n",
       "      <th>Weight</th>\n",
       "      <th>Height</th>\n",
       "      <th>MRI_Count</th>\n",
       "    </tr>\n",
       "    <tr>\n",
       "      <th>Gender</th>\n",
       "      <th></th>\n",
       "      <th></th>\n",
       "      <th></th>\n",
       "      <th></th>\n",
       "      <th></th>\n",
       "      <th></th>\n",
       "      <th></th>\n",
       "    </tr>\n",
       "  </thead>\n",
       "  <tbody>\n",
       "    <tr>\n",
       "      <th>Female</th>\n",
       "      <td>18.0</td>\n",
       "      <td>115.5</td>\n",
       "      <td>116.0</td>\n",
       "      <td>115.0</td>\n",
       "      <td>138.5</td>\n",
       "      <td>66.0</td>\n",
       "      <td>855365.0</td>\n",
       "    </tr>\n",
       "    <tr>\n",
       "      <th>Male</th>\n",
       "      <td>21.5</td>\n",
       "      <td>118.0</td>\n",
       "      <td>110.5</td>\n",
       "      <td>117.0</td>\n",
       "      <td>172.0</td>\n",
       "      <td>70.5</td>\n",
       "      <td>947241.5</td>\n",
       "    </tr>\n",
       "  </tbody>\n",
       "</table>\n",
       "</div>"
      ],
      "text/plain": [
       "        Unnamed: 0   FSIQ    VIQ    PIQ  Weight  Height  MRI_Count\n",
       "Gender                                                            \n",
       "Female        18.0  115.5  116.0  115.0   138.5    66.0   855365.0\n",
       "Male          21.5  118.0  110.5  117.0   172.0    70.5   947241.5"
      ]
     },
     "execution_count": 40,
     "metadata": {},
     "output_type": "execute_result"
    }
   ],
   "source": [
    "grGen.median()"
   ]
  },
  {
   "cell_type": "code",
   "execution_count": 41,
   "metadata": {},
   "outputs": [],
   "source": [
    "from pandas import plotting"
   ]
  },
  {
   "cell_type": "code",
   "execution_count": null,
   "metadata": {},
   "outputs": [],
   "source": [
    "#y = a + b1 * x1 + b2 * x2 ... - linear regression"
   ]
  },
  {
   "cell_type": "code",
   "execution_count": 42,
   "metadata": {},
   "outputs": [
    {
     "data": {
      "text/plain": [
       "array([[<matplotlib.axes._subplots.AxesSubplot object at 0x7ff6fb33a910>,\n",
       "        <matplotlib.axes._subplots.AxesSubplot object at 0x7ff6fb3a0d90>,\n",
       "        <matplotlib.axes._subplots.AxesSubplot object at 0x7ff6fb3da280>],\n",
       "       [<matplotlib.axes._subplots.AxesSubplot object at 0x7ff6fb4076d0>,\n",
       "        <matplotlib.axes._subplots.AxesSubplot object at 0x7ff6fb432b20>,\n",
       "        <matplotlib.axes._subplots.AxesSubplot object at 0x7ff6fb45e040>],\n",
       "       [<matplotlib.axes._subplots.AxesSubplot object at 0x7ff6fb45efa0>,\n",
       "        <matplotlib.axes._subplots.AxesSubplot object at 0x7ff6fb499490>,\n",
       "        <matplotlib.axes._subplots.AxesSubplot object at 0x7ff6fb611ca0>]],\n",
       "      dtype=object)"
      ]
     },
     "execution_count": 42,
     "metadata": {},
     "output_type": "execute_result"
    },
    {
     "data": {
      "image/png": "[encoded data removed]",
      "text/plain": [
       "<Figure size 432x288 with 9 Axes>"
      ]
     },
     "metadata": {
      "needs_background": "light"
     },
     "output_type": "display_data"
    }
   ],
   "source": [
    "plotting.scatter_matrix(data[['FSIQ', 'Weight', 'MRI_Count' ]])"
   ]
  },
  {
   "cell_type": "markdown",
   "metadata": {},
   "source": [
    "Взаимное рассеяние, как данные связаны друг с другом. Параметры не связаны, так как вся клеточка почти равномерно заполнена точечками - не коррелируют между собой."
   ]
  },
  {
   "cell_type": "code",
   "execution_count": 44,
   "metadata": {},
   "outputs": [
    {
     "data": {
      "text/plain": [
       "array([[<matplotlib.axes._subplots.AxesSubplot object at 0x7ff6fb754700>,\n",
       "        <matplotlib.axes._subplots.AxesSubplot object at 0x7ff6fb76fe80>,\n",
       "        <matplotlib.axes._subplots.AxesSubplot object at 0x7ff6fb83f340>,\n",
       "        <matplotlib.axes._subplots.AxesSubplot object at 0x7ff6fb869790>,\n",
       "        <matplotlib.axes._subplots.AxesSubplot object at 0x7ff6fb895be0>,\n",
       "        <matplotlib.axes._subplots.AxesSubplot object at 0x7ff6fb8c10d0>,\n",
       "        <matplotlib.axes._subplots.AxesSubplot object at 0x7ff6fb8cf0a0>],\n",
       "       [<matplotlib.axes._subplots.AxesSubplot object at 0x7ff6fb8fa580>,\n",
       "        <matplotlib.axes._subplots.AxesSubplot object at 0x7ff6fb953d90>,\n",
       "        <matplotlib.axes._subplots.AxesSubplot object at 0x7ff6fb98d220>,\n",
       "        <matplotlib.axes._subplots.AxesSubplot object at 0x7ff6fb9ba670>,\n",
       "        <matplotlib.axes._subplots.AxesSubplot object at 0x7ff6fb3e2b20>,\n",
       "        <matplotlib.axes._subplots.AxesSubplot object at 0x7ff6fb4a2b80>,\n",
       "        <matplotlib.axes._subplots.AxesSubplot object at 0x7ff6fb8a3a90>],\n",
       "       [<matplotlib.axes._subplots.AxesSubplot object at 0x7ff6fb9c5eb0>,\n",
       "        <matplotlib.axes._subplots.AxesSubplot object at 0x7ff6fbbc23d0>,\n",
       "        <matplotlib.axes._subplots.AxesSubplot object at 0x7ff6fbbee820>,\n",
       "        <matplotlib.axes._subplots.AxesSubplot object at 0x7ff6fbc1bca0>,\n",
       "        <matplotlib.axes._subplots.AxesSubplot object at 0x7ff6fbc57130>,\n",
       "        <matplotlib.axes._subplots.AxesSubplot object at 0x7ff6fbc83580>,\n",
       "        <matplotlib.axes._subplots.AxesSubplot object at 0x7ff6fbcb09d0>],\n",
       "       [<matplotlib.axes._subplots.AxesSubplot object at 0x7ff6fbcdce20>,\n",
       "        <matplotlib.axes._subplots.AxesSubplot object at 0x7ff6fbd152b0>,\n",
       "        <matplotlib.axes._subplots.AxesSubplot object at 0x7ff6fbd40700>,\n",
       "        <matplotlib.axes._subplots.AxesSubplot object at 0x7ff6fbd6eb50>,\n",
       "        <matplotlib.axes._subplots.AxesSubplot object at 0x7ff6fbd9cfa0>,\n",
       "        <matplotlib.axes._subplots.AxesSubplot object at 0x7ff6fbdd5430>,\n",
       "        <matplotlib.axes._subplots.AxesSubplot object at 0x7ff6fbe01880>],\n",
       "       [<matplotlib.axes._subplots.AxesSubplot object at 0x7ff6fbe30cd0>,\n",
       "        <matplotlib.axes._subplots.AxesSubplot object at 0x7ff6fbe68160>,\n",
       "        <matplotlib.axes._subplots.AxesSubplot object at 0x7ff6fbe945b0>,\n",
       "        <matplotlib.axes._subplots.AxesSubplot object at 0x7ff6fbec1a00>,\n",
       "        <matplotlib.axes._subplots.AxesSubplot object at 0x7ff6fbeefe50>,\n",
       "        <matplotlib.axes._subplots.AxesSubplot object at 0x7ff6fc8292e0>,\n",
       "        <matplotlib.axes._subplots.AxesSubplot object at 0x7ff6fc855730>],\n",
       "       [<matplotlib.axes._subplots.AxesSubplot object at 0x7ff6fc880bb0>,\n",
       "        <matplotlib.axes._subplots.AxesSubplot object at 0x7ff6fc8ae0a0>,\n",
       "        <matplotlib.axes._subplots.AxesSubplot object at 0x7ff6fc8e6490>,\n",
       "        <matplotlib.axes._subplots.AxesSubplot object at 0x7ff6fc9148e0>,\n",
       "        <matplotlib.axes._subplots.AxesSubplot object at 0x7ff6fc940d30>,\n",
       "        <matplotlib.axes._subplots.AxesSubplot object at 0x7ff6fc9791c0>,\n",
       "        <matplotlib.axes._subplots.AxesSubplot object at 0x7ff6fc99f130>],\n",
       "       [<matplotlib.axes._subplots.AxesSubplot object at 0x7ff6fc9d3850>,\n",
       "        <matplotlib.axes._subplots.AxesSubplot object at 0x7ff6fc9fffd0>,\n",
       "        <matplotlib.axes._subplots.AxesSubplot object at 0x7ff6fca32790>,\n",
       "        <matplotlib.axes._subplots.AxesSubplot object at 0x7ff6fca5bf40>,\n",
       "        <matplotlib.axes._subplots.AxesSubplot object at 0x7ff6fca94700>,\n",
       "        <matplotlib.axes._subplots.AxesSubplot object at 0x7ff6fcabce80>,\n",
       "        <matplotlib.axes._subplots.AxesSubplot object at 0x7ff6fcaf2670>]],\n",
       "      dtype=object)"
      ]
     },
     "execution_count": 44,
     "metadata": {},
     "output_type": "execute_result"
    },
    {
     "data": {
      "image/png": "[encoded data removed]",
      "text/plain": [
       "<Figure size 432x288 with 49 Axes>"
      ]
     },
     "metadata": {
      "needs_background": "light"
     },
     "output_type": "display_data"
    }
   ],
   "source": [
    "plotting.scatter_matrix(data)"
   ]
  },
  {
   "cell_type": "code",
   "execution_count": 45,
   "metadata": {},
   "outputs": [],
   "source": [
    "from scipy import stats"
   ]
  },
  {
   "cell_type": "code",
   "execution_count": 46,
   "metadata": {},
   "outputs": [
    {
     "data": {
      "text/plain": [
       "Ttest_1sampResult(statistic=30.088099970849328, pvalue=1.3289196468728067e-28)"
      ]
     },
     "execution_count": 46,
     "metadata": {},
     "output_type": "execute_result"
    }
   ],
   "source": [
    "stats.ttest_1samp(data['VIQ'], 0)"
   ]
  },
  {
   "cell_type": "code",
   "execution_count": 50,
   "metadata": {},
   "outputs": [],
   "source": [
    "fVIQ=data[data['Gender']=='Female']['VIQ']\n",
    "mVIQ=data[data['Gender']=='Male']['VIQ']"
   ]
  },
  {
   "cell_type": "code",
   "execution_count": 51,
   "metadata": {},
   "outputs": [
    {
     "data": {
      "text/plain": [
       "Ttest_1sampResult(statistic=1    -8.368130\n",
       "2    -2.796256\n",
       "3    -4.034450\n",
       "8     3.394716\n",
       "9    -0.938964\n",
       "11   -8.368130\n",
       "12   -4.034450\n",
       "17    2.775619\n",
       "19    6.696568\n",
       "20    5.458373\n",
       "21    0.505596\n",
       "23   -7.336302\n",
       "25   -7.336302\n",
       "27    2.775619\n",
       "31   -7.336302\n",
       "32    2.775619\n",
       "33    2.775619\n",
       "36   -8.368130\n",
       "38    4.013813\n",
       "39    3.807448\n",
       "Name: VIQ, dtype: float64, pvalue=array([8.53672065e-08, 1.15172135e-02, 7.08211877e-04, 3.04058564e-03,\n",
       "       3.59533563e-01, 8.53672065e-08, 7.08211877e-04, 1.20460689e-02,\n",
       "       2.11193592e-06, 2.88586179e-05, 6.18955459e-01, 5.91784358e-07,\n",
       "       5.91784358e-07, 1.20460689e-02, 5.91784358e-07, 1.20460689e-02,\n",
       "       1.20460689e-02, 8.53672065e-08, 7.42394115e-04, 1.18938100e-03]))"
      ]
     },
     "execution_count": 51,
     "metadata": {},
     "output_type": "execute_result"
    }
   ],
   "source": [
    "stats.ttest_1samp(fVIQ,mVIQ)"
   ]
  },
  {
   "cell_type": "code",
   "execution_count": null,
   "metadata": {},
   "outputs": [],
   "source": []
  }
 ],
 "metadata": {
  "kernelspec": {
   "display_name": "Python 3",
   "language": "python",
   "name": "python3"
  },
  "language_info": {
   "codemirror_mode": {
    "name": "ipython",
    "version": 3
   },
   "file_extension": ".py",
   "mimetype": "text/x-python",
   "name": "python",
   "nbconvert_exporter": "python",
   "pygments_lexer": "ipython3",
   "version": "3.8.3"
  }
 },
 "nbformat": 4,
 "nbformat_minor": 4
}

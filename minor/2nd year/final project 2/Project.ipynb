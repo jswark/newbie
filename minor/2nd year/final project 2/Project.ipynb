{
 "cells": [
  {
   "cell_type": "markdown",
   "metadata": {},
   "source": [
    "Скачать ценовые ряды акций двух любых компаний за три месяца с частотой -30 минут. Выполнить тестирование рядов по схеме в файле Untaitled34"
   ]
  },
  {
   "cell_type": "code",
   "execution_count": 128,
   "metadata": {},
   "outputs": [],
   "source": [
    "import pandas as pd\n",
    "import matplotlib.pyplot as plt\n",
    "import scipy as sc\n",
    "import numpy as np\n",
    "from scipy import stats"
   ]
  },
  {
   "cell_type": "code",
   "execution_count": 129,
   "metadata": {},
   "outputs": [
    {
     "data": {
      "text/html": [
       "<div>\n",
       "<style scoped>\n",
       "    .dataframe tbody tr th:only-of-type {\n",
       "        vertical-align: middle;\n",
       "    }\n",
       "\n",
       "    .dataframe tbody tr th {\n",
       "        vertical-align: top;\n",
       "    }\n",
       "\n",
       "    .dataframe thead th {\n",
       "        text-align: right;\n",
       "    }\n",
       "</style>\n",
       "<table border=\"1\" class=\"dataframe\">\n",
       "  <thead>\n",
       "    <tr style=\"text-align: right;\">\n",
       "      <th></th>\n",
       "      <th>&lt;DATE&gt;</th>\n",
       "      <th>&lt;TIME&gt;</th>\n",
       "      <th>&lt;OPEN&gt;</th>\n",
       "      <th>&lt;HIGH&gt;</th>\n",
       "      <th>&lt;LOW&gt;</th>\n",
       "      <th>&lt;CLOSE&gt;</th>\n",
       "      <th>&lt;VOL&gt;</th>\n",
       "    </tr>\n",
       "  </thead>\n",
       "  <tbody>\n",
       "    <tr>\n",
       "      <th>0</th>\n",
       "      <td>01/06/20</td>\n",
       "      <td>10:30:00</td>\n",
       "      <td>319.24</td>\n",
       "      <td>320.00</td>\n",
       "      <td>318.57</td>\n",
       "      <td>319.60</td>\n",
       "      <td>625</td>\n",
       "    </tr>\n",
       "    <tr>\n",
       "      <th>1</th>\n",
       "      <td>01/06/20</td>\n",
       "      <td>11:00:00</td>\n",
       "      <td>319.63</td>\n",
       "      <td>319.99</td>\n",
       "      <td>319.00</td>\n",
       "      <td>319.52</td>\n",
       "      <td>206</td>\n",
       "    </tr>\n",
       "    <tr>\n",
       "      <th>2</th>\n",
       "      <td>01/06/20</td>\n",
       "      <td>11:30:00</td>\n",
       "      <td>319.51</td>\n",
       "      <td>319.51</td>\n",
       "      <td>315.50</td>\n",
       "      <td>315.87</td>\n",
       "      <td>1.766</td>\n",
       "    </tr>\n",
       "    <tr>\n",
       "      <th>3</th>\n",
       "      <td>01/06/20</td>\n",
       "      <td>12:00:00</td>\n",
       "      <td>315.99</td>\n",
       "      <td>316.72</td>\n",
       "      <td>315.80</td>\n",
       "      <td>316.64</td>\n",
       "      <td>711</td>\n",
       "    </tr>\n",
       "    <tr>\n",
       "      <th>4</th>\n",
       "      <td>01/06/20</td>\n",
       "      <td>12:30:00</td>\n",
       "      <td>316.64</td>\n",
       "      <td>316.99</td>\n",
       "      <td>316.25</td>\n",
       "      <td>316.53</td>\n",
       "      <td>283</td>\n",
       "    </tr>\n",
       "  </tbody>\n",
       "</table>\n",
       "</div>"
      ],
      "text/plain": [
       "     <DATE>    <TIME>  <OPEN>  <HIGH>   <LOW>  <CLOSE>  <VOL>\n",
       "0  01/06/20  10:30:00  319.24  320.00  318.57   319.60    625\n",
       "1  01/06/20  11:00:00  319.63  319.99  319.00   319.52    206\n",
       "2  01/06/20  11:30:00  319.51  319.51  315.50   315.87  1.766\n",
       "3  01/06/20  12:00:00  315.99  316.72  315.80   316.64    711\n",
       "4  01/06/20  12:30:00  316.64  316.99  316.25   316.53    283"
      ]
     },
     "execution_count": 129,
     "metadata": {},
     "output_type": "execute_result"
    }
   ],
   "source": [
    "apple=pd.read_csv('apple.csv',sep=',')\n",
    "apple.head()"
   ]
  },
  {
   "cell_type": "code",
   "execution_count": 130,
   "metadata": {},
   "outputs": [
    {
     "data": {
      "text/html": [
       "<div>\n",
       "<style scoped>\n",
       "    .dataframe tbody tr th:only-of-type {\n",
       "        vertical-align: middle;\n",
       "    }\n",
       "\n",
       "    .dataframe tbody tr th {\n",
       "        vertical-align: top;\n",
       "    }\n",
       "\n",
       "    .dataframe thead th {\n",
       "        text-align: right;\n",
       "    }\n",
       "</style>\n",
       "<table border=\"1\" class=\"dataframe\">\n",
       "  <thead>\n",
       "    <tr style=\"text-align: right;\">\n",
       "      <th></th>\n",
       "      <th>&lt;DATE&gt;</th>\n",
       "      <th>&lt;TIME&gt;</th>\n",
       "      <th>&lt;OPEN&gt;</th>\n",
       "      <th>&lt;HIGH&gt;</th>\n",
       "      <th>&lt;LOW&gt;</th>\n",
       "      <th>&lt;CLOSE&gt;</th>\n",
       "      <th>&lt;VOL&gt;</th>\n",
       "    </tr>\n",
       "  </thead>\n",
       "  <tbody>\n",
       "    <tr>\n",
       "      <th>0</th>\n",
       "      <td>01/06/20</td>\n",
       "      <td>10:30:00</td>\n",
       "      <td>78.53</td>\n",
       "      <td>79.08</td>\n",
       "      <td>78.53</td>\n",
       "      <td>78.96</td>\n",
       "      <td>424</td>\n",
       "    </tr>\n",
       "    <tr>\n",
       "      <th>1</th>\n",
       "      <td>01/06/20</td>\n",
       "      <td>11:00:00</td>\n",
       "      <td>78.85</td>\n",
       "      <td>78.99</td>\n",
       "      <td>78.78</td>\n",
       "      <td>78.78</td>\n",
       "      <td>36</td>\n",
       "    </tr>\n",
       "    <tr>\n",
       "      <th>2</th>\n",
       "      <td>01/06/20</td>\n",
       "      <td>11:30:00</td>\n",
       "      <td>78.97</td>\n",
       "      <td>78.97</td>\n",
       "      <td>77.40</td>\n",
       "      <td>77.40</td>\n",
       "      <td>106</td>\n",
       "    </tr>\n",
       "    <tr>\n",
       "      <th>3</th>\n",
       "      <td>01/06/20</td>\n",
       "      <td>12:00:00</td>\n",
       "      <td>77.40</td>\n",
       "      <td>78.40</td>\n",
       "      <td>77.16</td>\n",
       "      <td>77.40</td>\n",
       "      <td>70</td>\n",
       "    </tr>\n",
       "    <tr>\n",
       "      <th>4</th>\n",
       "      <td>01/06/20</td>\n",
       "      <td>12:30:00</td>\n",
       "      <td>77.88</td>\n",
       "      <td>78.15</td>\n",
       "      <td>77.48</td>\n",
       "      <td>77.48</td>\n",
       "      <td>346</td>\n",
       "    </tr>\n",
       "  </tbody>\n",
       "</table>\n",
       "</div>"
      ],
      "text/plain": [
       "     <DATE>    <TIME>  <OPEN>  <HIGH>  <LOW>  <CLOSE> <VOL>\n",
       "0  01/06/20  10:30:00   78.53   79.08  78.53    78.96   424\n",
       "1  01/06/20  11:00:00   78.85   78.99  78.78    78.78    36\n",
       "2  01/06/20  11:30:00   78.97   78.97  77.40    77.40   106\n",
       "3  01/06/20  12:00:00   77.40   78.40  77.16    77.40    70\n",
       "4  01/06/20  12:30:00   77.88   78.15  77.48    77.48   346"
      ]
     },
     "execution_count": 130,
     "metadata": {},
     "output_type": "execute_result"
    }
   ],
   "source": [
    "star=pd.read_csv('star.csv',sep=',')\n",
    "star.head()"
   ]
  },
  {
   "cell_type": "code",
   "execution_count": 131,
   "metadata": {},
   "outputs": [
    {
     "data": {
      "text/plain": [
       "['<DATE>', '<TIME>', '<OPEN>', '<HIGH>', '<LOW>', '<CLOSE>', '<VOL>']"
      ]
     },
     "execution_count": 131,
     "metadata": {},
     "output_type": "execute_result"
    }
   ],
   "source": [
    "starcol = star.columns.to_list()\n",
    "starcol"
   ]
  },
  {
   "cell_type": "markdown",
   "metadata": {},
   "source": [
    "Статистические данные для каждой котировки:"
   ]
  },
  {
   "cell_type": "code",
   "execution_count": 132,
   "metadata": {},
   "outputs": [
    {
     "data": {
      "text/html": [
       "<div>\n",
       "<style scoped>\n",
       "    .dataframe tbody tr th:only-of-type {\n",
       "        vertical-align: middle;\n",
       "    }\n",
       "\n",
       "    .dataframe tbody tr th {\n",
       "        vertical-align: top;\n",
       "    }\n",
       "\n",
       "    .dataframe thead th {\n",
       "        text-align: right;\n",
       "    }\n",
       "</style>\n",
       "<table border=\"1\" class=\"dataframe\">\n",
       "  <thead>\n",
       "    <tr style=\"text-align: right;\">\n",
       "      <th></th>\n",
       "      <th>&lt;OPEN&gt;</th>\n",
       "      <th>&lt;HIGH&gt;</th>\n",
       "      <th>&lt;LOW&gt;</th>\n",
       "      <th>&lt;CLOSE&gt;</th>\n",
       "    </tr>\n",
       "  </thead>\n",
       "  <tbody>\n",
       "    <tr>\n",
       "      <th>count</th>\n",
       "      <td>5242.000000</td>\n",
       "      <td>5242.000000</td>\n",
       "      <td>5242.000000</td>\n",
       "      <td>5242.000000</td>\n",
       "    </tr>\n",
       "    <tr>\n",
       "      <th>mean</th>\n",
       "      <td>88.007892</td>\n",
       "      <td>88.198398</td>\n",
       "      <td>87.808499</td>\n",
       "      <td>88.008941</td>\n",
       "    </tr>\n",
       "    <tr>\n",
       "      <th>std</th>\n",
       "      <td>10.758154</td>\n",
       "      <td>10.774028</td>\n",
       "      <td>10.743274</td>\n",
       "      <td>10.761757</td>\n",
       "    </tr>\n",
       "    <tr>\n",
       "      <th>min</th>\n",
       "      <td>70.340000</td>\n",
       "      <td>70.490000</td>\n",
       "      <td>70.210000</td>\n",
       "      <td>70.390000</td>\n",
       "    </tr>\n",
       "    <tr>\n",
       "      <th>25%</th>\n",
       "      <td>77.490000</td>\n",
       "      <td>77.682500</td>\n",
       "      <td>77.330000</td>\n",
       "      <td>77.480000</td>\n",
       "    </tr>\n",
       "    <tr>\n",
       "      <th>50%</th>\n",
       "      <td>86.925000</td>\n",
       "      <td>87.110000</td>\n",
       "      <td>86.680000</td>\n",
       "      <td>86.900000</td>\n",
       "    </tr>\n",
       "    <tr>\n",
       "      <th>75%</th>\n",
       "      <td>98.387500</td>\n",
       "      <td>98.550000</td>\n",
       "      <td>98.220000</td>\n",
       "      <td>98.407500</td>\n",
       "    </tr>\n",
       "    <tr>\n",
       "      <th>max</th>\n",
       "      <td>108.000000</td>\n",
       "      <td>108.000000</td>\n",
       "      <td>107.900000</td>\n",
       "      <td>108.000000</td>\n",
       "    </tr>\n",
       "  </tbody>\n",
       "</table>\n",
       "</div>"
      ],
      "text/plain": [
       "            <OPEN>       <HIGH>        <LOW>      <CLOSE>\n",
       "count  5242.000000  5242.000000  5242.000000  5242.000000\n",
       "mean     88.007892    88.198398    87.808499    88.008941\n",
       "std      10.758154    10.774028    10.743274    10.761757\n",
       "min      70.340000    70.490000    70.210000    70.390000\n",
       "25%      77.490000    77.682500    77.330000    77.480000\n",
       "50%      86.925000    87.110000    86.680000    86.900000\n",
       "75%      98.387500    98.550000    98.220000    98.407500\n",
       "max     108.000000   108.000000   107.900000   108.000000"
      ]
     },
     "execution_count": 132,
     "metadata": {},
     "output_type": "execute_result"
    }
   ],
   "source": [
    "star.describe()"
   ]
  },
  {
   "cell_type": "code",
   "execution_count": 133,
   "metadata": {},
   "outputs": [
    {
     "data": {
      "text/html": [
       "<div>\n",
       "<style scoped>\n",
       "    .dataframe tbody tr th:only-of-type {\n",
       "        vertical-align: middle;\n",
       "    }\n",
       "\n",
       "    .dataframe tbody tr th {\n",
       "        vertical-align: top;\n",
       "    }\n",
       "\n",
       "    .dataframe thead th {\n",
       "        text-align: right;\n",
       "    }\n",
       "</style>\n",
       "<table border=\"1\" class=\"dataframe\">\n",
       "  <thead>\n",
       "    <tr style=\"text-align: right;\">\n",
       "      <th></th>\n",
       "      <th>&lt;OPEN&gt;</th>\n",
       "      <th>&lt;HIGH&gt;</th>\n",
       "      <th>&lt;LOW&gt;</th>\n",
       "      <th>&lt;CLOSE&gt;</th>\n",
       "    </tr>\n",
       "  </thead>\n",
       "  <tbody>\n",
       "    <tr>\n",
       "      <th>count</th>\n",
       "      <td>5371.000000</td>\n",
       "      <td>5371.000000</td>\n",
       "      <td>5371.000000</td>\n",
       "      <td>5371.000000</td>\n",
       "    </tr>\n",
       "    <tr>\n",
       "      <th>mean</th>\n",
       "      <td>226.335671</td>\n",
       "      <td>226.886276</td>\n",
       "      <td>225.744003</td>\n",
       "      <td>226.362793</td>\n",
       "    </tr>\n",
       "    <tr>\n",
       "      <th>std</th>\n",
       "      <td>137.006142</td>\n",
       "      <td>137.281823</td>\n",
       "      <td>136.734895</td>\n",
       "      <td>137.044589</td>\n",
       "    </tr>\n",
       "    <tr>\n",
       "      <th>min</th>\n",
       "      <td>103.600000</td>\n",
       "      <td>104.520000</td>\n",
       "      <td>101.390000</td>\n",
       "      <td>103.570000</td>\n",
       "    </tr>\n",
       "    <tr>\n",
       "      <th>25%</th>\n",
       "      <td>117.945000</td>\n",
       "      <td>118.290000</td>\n",
       "      <td>117.510000</td>\n",
       "      <td>117.935000</td>\n",
       "    </tr>\n",
       "    <tr>\n",
       "      <th>50%</th>\n",
       "      <td>130.750000</td>\n",
       "      <td>131.040000</td>\n",
       "      <td>130.350000</td>\n",
       "      <td>130.730000</td>\n",
       "    </tr>\n",
       "    <tr>\n",
       "      <th>75%</th>\n",
       "      <td>365.100000</td>\n",
       "      <td>365.870000</td>\n",
       "      <td>364.515000</td>\n",
       "      <td>365.100000</td>\n",
       "    </tr>\n",
       "    <tr>\n",
       "      <th>max</th>\n",
       "      <td>514.800000</td>\n",
       "      <td>516.490000</td>\n",
       "      <td>513.300000</td>\n",
       "      <td>514.790000</td>\n",
       "    </tr>\n",
       "  </tbody>\n",
       "</table>\n",
       "</div>"
      ],
      "text/plain": [
       "            <OPEN>       <HIGH>        <LOW>      <CLOSE>\n",
       "count  5371.000000  5371.000000  5371.000000  5371.000000\n",
       "mean    226.335671   226.886276   225.744003   226.362793\n",
       "std     137.006142   137.281823   136.734895   137.044589\n",
       "min     103.600000   104.520000   101.390000   103.570000\n",
       "25%     117.945000   118.290000   117.510000   117.935000\n",
       "50%     130.750000   131.040000   130.350000   130.730000\n",
       "75%     365.100000   365.870000   364.515000   365.100000\n",
       "max     514.800000   516.490000   513.300000   514.790000"
      ]
     },
     "execution_count": 133,
     "metadata": {},
     "output_type": "execute_result"
    }
   ],
   "source": [
    "apple.describe()"
   ]
  },
  {
   "cell_type": "markdown",
   "metadata": {},
   "source": [
    "Посмотрим, в какие дни цена акций была ниже среднего"
   ]
  },
  {
   "cell_type": "code",
   "execution_count": 134,
   "metadata": {},
   "outputs": [
    {
     "data": {
      "text/plain": [
       "2048    31/08/20\n",
       "2049    31/08/20\n",
       "2050    31/08/20\n",
       "2051    31/08/20\n",
       "2052    31/08/20\n",
       "          ...   \n",
       "5366    01/02/21\n",
       "5367    01/02/21\n",
       "5368    01/02/21\n",
       "5369    02/02/21\n",
       "5370    02/02/21\n",
       "Name: <DATE>, Length: 3323, dtype: object"
      ]
     },
     "execution_count": 134,
     "metadata": {},
     "output_type": "execute_result"
    }
   ],
   "source": [
    "apple_mean = apple['<OPEN>'].mean()\n",
    "apple_highmean = apple[apple['<OPEN>'] <= apple_mean]['<DATE>']\n",
    "apple_highmean"
   ]
  },
  {
   "cell_type": "code",
   "execution_count": 135,
   "metadata": {},
   "outputs": [
    {
     "data": {
      "text/plain": [
       "0       01/06/20\n",
       "1       01/06/20\n",
       "2       01/06/20\n",
       "3       01/06/20\n",
       "4       01/06/20\n",
       "          ...   \n",
       "3357    03/11/20\n",
       "3358    03/11/20\n",
       "3362    03/11/20\n",
       "3364    03/11/20\n",
       "3366    03/11/20\n",
       "Name: <DATE>, Length: 2814, dtype: object"
      ]
     },
     "execution_count": 135,
     "metadata": {},
     "output_type": "execute_result"
    }
   ],
   "source": [
    "star_mean = star['<OPEN>'].mean()\n",
    "star_highmean = star[star['<OPEN>'] <= star_mean]['<DATE>']\n",
    "star_highmean"
   ]
  },
  {
   "cell_type": "code",
   "execution_count": 136,
   "metadata": {},
   "outputs": [],
   "source": [
    "from pandas import plotting"
   ]
  },
  {
   "cell_type": "code",
   "execution_count": 137,
   "metadata": {},
   "outputs": [
    {
     "data": {
      "text/plain": [
       "array([[<matplotlib.axes._subplots.AxesSubplot object at 0x7f8284a842b0>,\n",
       "        <matplotlib.axes._subplots.AxesSubplot object at 0x7f82858e5670>,\n",
       "        <matplotlib.axes._subplots.AxesSubplot object at 0x7f828561a160>],\n",
       "       [<matplotlib.axes._subplots.AxesSubplot object at 0x7f82859efe80>,\n",
       "        <matplotlib.axes._subplots.AxesSubplot object at 0x7f82853d6130>,\n",
       "        <matplotlib.axes._subplots.AxesSubplot object at 0x7f82873c6d30>],\n",
       "       [<matplotlib.axes._subplots.AxesSubplot object at 0x7f82873c6340>,\n",
       "        <matplotlib.axes._subplots.AxesSubplot object at 0x7f8287e33af0>,\n",
       "        <matplotlib.axes._subplots.AxesSubplot object at 0x7f8285d0c6a0>]],\n",
       "      dtype=object)"
      ]
     },
     "execution_count": 137,
     "metadata": {},
     "output_type": "execute_result"
    },
    {
     "data": {
      "image/png": "[encoded data removed]",
      "text/plain": [
       "<Figure size 432x288 with 9 Axes>"
      ]
     },
     "metadata": {
      "needs_background": "light"
     },
     "output_type": "display_data"
    }
   ],
   "source": [
    "plotting.scatter_matrix(apple[['<OPEN>','<HIGH>','<LOW>']])"
   ]
  },
  {
   "cell_type": "code",
   "execution_count": 138,
   "metadata": {},
   "outputs": [
    {
     "data": {
      "text/plain": [
       "array([[<matplotlib.axes._subplots.AxesSubplot object at 0x7f8285d2c190>,\n",
       "        <matplotlib.axes._subplots.AxesSubplot object at 0x7f8285d386d0>,\n",
       "        <matplotlib.axes._subplots.AxesSubplot object at 0x7f8285681b50>],\n",
       "       [<matplotlib.axes._subplots.AxesSubplot object at 0x7f8286040fa0>,\n",
       "        <matplotlib.axes._subplots.AxesSubplot object at 0x7f8286078430>,\n",
       "        <matplotlib.axes._subplots.AxesSubplot object at 0x7f8287989f70>],\n",
       "       [<matplotlib.axes._subplots.AxesSubplot object at 0x7f8287989280>,\n",
       "        <matplotlib.axes._subplots.AxesSubplot object at 0x7f8287af0d60>,\n",
       "        <matplotlib.axes._subplots.AxesSubplot object at 0x7f828591e5b0>]],\n",
       "      dtype=object)"
      ]
     },
     "execution_count": 138,
     "metadata": {},
     "output_type": "execute_result"
    },
    {
     "data": {
      "image/png": "[encoded data removed]",
      "text/plain": [
       "<Figure size 432x288 with 9 Axes>"
      ]
     },
     "metadata": {
      "needs_background": "light"
     },
     "output_type": "display_data"
    }
   ],
   "source": [
    "plotting.scatter_matrix(star[['<OPEN>','<HIGH>','<LOW>']])"
   ]
  },
  {
   "cell_type": "code",
   "execution_count": 139,
   "metadata": {},
   "outputs": [],
   "source": [
    "from scipy import stats"
   ]
  },
  {
   "cell_type": "code",
   "execution_count": 140,
   "metadata": {},
   "outputs": [
    {
     "data": {
      "text/plain": [
       "Ttest_1sampResult(statistic=121.07111533577796, pvalue=0.0)"
      ]
     },
     "execution_count": 140,
     "metadata": {},
     "output_type": "execute_result"
    }
   ],
   "source": [
    "stats.ttest_1samp(apple['<OPEN>'], 0)"
   ]
  },
  {
   "cell_type": "code",
   "execution_count": 141,
   "metadata": {},
   "outputs": [
    {
     "data": {
      "text/plain": [
       "Ttest_1sampResult(statistic=592.2872393290735, pvalue=0.0)"
      ]
     },
     "execution_count": 141,
     "metadata": {},
     "output_type": "execute_result"
    }
   ],
   "source": [
    "stats.ttest_1samp(star['<OPEN>'], 0)"
   ]
  },
  {
   "cell_type": "markdown",
   "metadata": {},
   "source": [
    "Построим графики изменения цен"
   ]
  },
  {
   "cell_type": "code",
   "execution_count": 142,
   "metadata": {},
   "outputs": [
    {
     "data": {
      "image/png": "[encoded data removed]",
      "text/plain": [
       "<Figure size 432x288 with 1 Axes>"
      ]
     },
     "metadata": {
      "needs_background": "light"
     },
     "output_type": "display_data"
    }
   ],
   "source": [
    "apple['<OPEN>'].plot()\n",
    "plt.show()"
   ]
  },
  {
   "cell_type": "markdown",
   "metadata": {},
   "source": [
    "Наблюдаем резкое падение цены с ~500 до почти 100. Посмотрим, когда такое падение произошло"
   ]
  },
  {
   "cell_type": "code",
   "execution_count": 143,
   "metadata": {},
   "outputs": [
    {
     "data": {
      "text/plain": [
       "1888    24/08/20\n",
       "1889    24/08/20\n",
       "1890    24/08/20\n",
       "1891    24/08/20\n",
       "1892    24/08/20\n",
       "          ...   \n",
       "2040    28/08/20\n",
       "2041    28/08/20\n",
       "2045    29/08/20\n",
       "2046    29/08/20\n",
       "2047    29/08/20\n",
       "Name: <DATE>, Length: 132, dtype: object"
      ]
     },
     "execution_count": 143,
     "metadata": {},
     "output_type": "execute_result"
    }
   ],
   "source": [
    "data = apple[apple['<OPEN>'] > 500]['<DATE>']\n",
    "data"
   ]
  },
  {
   "cell_type": "code",
   "execution_count": 144,
   "metadata": {},
   "outputs": [
    {
     "data": {
      "text/plain": [
       "2048    31/08/20\n",
       "2049    31/08/20\n",
       "2050    31/08/20\n",
       "2051    31/08/20\n",
       "2052    31/08/20\n",
       "          ...   \n",
       "5366    01/02/21\n",
       "5367    01/02/21\n",
       "5368    01/02/21\n",
       "5369    02/02/21\n",
       "5370    02/02/21\n",
       "Name: <DATE>, Length: 3323, dtype: object"
      ]
     },
     "execution_count": 144,
     "metadata": {},
     "output_type": "execute_result"
    }
   ],
   "source": [
    "data = apple[apple['<OPEN>'] < 150]['<DATE>']\n",
    "data"
   ]
  },
  {
   "cell_type": "markdown",
   "metadata": {},
   "source": [
    "Мы можем видеть, что  28/08/20 цена акций apple была больше 500, а уже 31/08/20 снизилась до 150."
   ]
  },
  {
   "cell_type": "code",
   "execution_count": 145,
   "metadata": {},
   "outputs": [
    {
     "data": {
      "text/plain": [
       "<matplotlib.axes._subplots.AxesSubplot at 0x7f82875d7ee0>"
      ]
     },
     "execution_count": 145,
     "metadata": {},
     "output_type": "execute_result"
    },
    {
     "data": {
      "image/png": "[encoded data removed]",
      "text/plain": [
       "<Figure size 432x288 with 1 Axes>"
      ]
     },
     "metadata": {
      "needs_background": "light"
     },
     "output_type": "display_data"
    }
   ],
   "source": [
    "apple['<OPEN>'].hist()"
   ]
  },
  {
   "cell_type": "code",
   "execution_count": 146,
   "metadata": {},
   "outputs": [
    {
     "data": {
      "image/png": "[encoded data removed]",
      "text/plain": [
       "<Figure size 432x288 with 1 Axes>"
      ]
     },
     "metadata": {
      "needs_background": "light"
     },
     "output_type": "display_data"
    }
   ],
   "source": [
    "star['<OPEN>'].plot()\n",
    "plt.show()"
   ]
  },
  {
   "cell_type": "code",
   "execution_count": 147,
   "metadata": {},
   "outputs": [
    {
     "data": {
      "text/plain": [
       "<matplotlib.axes._subplots.AxesSubplot at 0x7f8285d59730>"
      ]
     },
     "execution_count": 147,
     "metadata": {},
     "output_type": "execute_result"
    },
    {
     "data": {
      "image/png": "[encoded data removed]",
      "text/plain": [
       "<Figure size 432x288 with 1 Axes>"
      ]
     },
     "metadata": {
      "needs_background": "light"
     },
     "output_type": "display_data"
    }
   ],
   "source": [
    "star['<OPEN>'].hist()"
   ]
  },
  {
   "cell_type": "code",
   "execution_count": 148,
   "metadata": {},
   "outputs": [
    {
     "data": {
      "image/png": "[encoded data removed]",
      "text/plain": [
       "<Figure size 432x288 with 1 Axes>"
      ]
     },
     "metadata": {
      "needs_background": "light"
     },
     "output_type": "display_data"
    }
   ],
   "source": [
    "plt.plot(star['<OPEN>'])\n",
    "plt.plot(apple['<OPEN>'])\n",
    "plt.legend([\"starbucks\", \"apple\"])\n",
    "plt.show()"
   ]
  },
  {
   "cell_type": "code",
   "execution_count": 149,
   "metadata": {},
   "outputs": [
    {
     "data": {
      "image/png": "[encoded data removed]",
      "text/plain": [
       "<Figure size 432x288 with 1 Axes>"
      ]
     },
     "metadata": {
      "needs_background": "light"
     },
     "output_type": "display_data"
    }
   ],
   "source": [
    "plt.subplot(1,1,1)\n",
    "plt.hist(star['<OPEN>'], bins=20)\n",
    "plt.hist(apple['<OPEN>'], bins=20)\n",
    "plt.legend([\"starbucks\", \"apple\"])\n",
    "plt.show()"
   ]
  },
  {
   "cell_type": "markdown",
   "metadata": {},
   "source": [
    "Проверим тесты на наших данных"
   ]
  },
  {
   "cell_type": "code",
   "execution_count": 150,
   "metadata": {},
   "outputs": [
    {
     "name": "stdout",
     "output_type": "stream",
     "text": [
      " sample:         mean=226.3357,  var= 18770.6831, skew= 0.6652,  kurt= -1.2868 \n"
     ]
    }
   ],
   "source": [
    "sstr='%-16s mean=%6.4f,  var= %6.4f, skew= %6.4f,  kurt= %6.4f '\n",
    "n, (smin, smax), sm, sv , ss, sk=stats.describe(apple['<OPEN>'])\n",
    "print( sstr % (' sample: ', sm, sv , ss, sk))"
   ]
  },
  {
   "cell_type": "code",
   "execution_count": 151,
   "metadata": {},
   "outputs": [
    {
     "name": "stdout",
     "output_type": "stream",
     "text": [
      "KS-stat   D= 1.000 pvalue = 0.0000\n"
     ]
    }
   ],
   "source": [
    "print('KS-stat   D=%6.3f pvalue = %6.4f' % stats.kstest(apple['<OPEN>'],'norm'))"
   ]
  },
  {
   "cell_type": "code",
   "execution_count": 152,
   "metadata": {},
   "outputs": [
    {
     "name": "stdout",
     "output_type": "stream",
     "text": [
      "KS-stat   D= 1.000 pvalue = 0.0000\n"
     ]
    }
   ],
   "source": [
    "print('KS-stat   D=%6.3f pvalue = %6.4f' % stats.kstest(apple['<OPEN>'],'t',(12,)))"
   ]
  },
  {
   "cell_type": "code",
   "execution_count": 153,
   "metadata": {},
   "outputs": [
    {
     "name": "stdout",
     "output_type": "stream",
     "text": [
      "[       -inf -2.76376946 -1.81246112 -1.37218364  1.37218364  1.81246112\n",
      "  2.76376946         inf]\n",
      "chisquare for t:      chi2 = 531729.00 pvalue = 0.0000\n",
      "chisquare for normal: chi2 = 1874642.30 pvalue = 0.0000\n"
     ]
    }
   ],
   "source": [
    "quantiles = [0.0, 0.01, 0.05, 0.1, 1-0.10, 1-0.05, 1-0.01, 1.0]\n",
    "crit = stats.t.ppf(quantiles, 10)\n",
    "print(crit)\n",
    "n_sample = apple['<OPEN>'].size\n",
    "freqcount = np.histogram(apple['<OPEN>'], bins=crit)[0]\n",
    "tprob = np.diff(quantiles)\n",
    "nprob = np.diff(stats.norm.cdf(crit))\n",
    "tch, tpval = stats.chisquare(freqcount, tprob*n_sample)\n",
    "nch, npval = stats.chisquare(freqcount, nprob*n_sample)\n",
    "print('chisquare for t:      chi2 = %6.2f pvalue = %6.4f' % (tch, tpval))\n",
    "print('chisquare for normal: chi2 = %6.2f pvalue = %6.4f' % (nch, npval))"
   ]
  },
  {
   "cell_type": "code",
   "execution_count": 154,
   "metadata": {},
   "outputs": [
    {
     "name": "stdout",
     "output_type": "stream",
     "text": [
      "normal skewtest teststat = 18.208 pvalue = 0.0000\n",
      "normal kurtosistest teststat = -116.831 pvalue = 0.0000\n"
     ]
    }
   ],
   "source": [
    "print('normal skewtest teststat = %6.3f pvalue = %6.4f' % stats.skewtest(apple['<OPEN>']))\n",
    "print('normal kurtosistest teststat = %6.3f pvalue = %6.4f' % stats.kurtosistest(apple['<OPEN>']))"
   ]
  },
  {
   "cell_type": "code",
   "execution_count": 155,
   "metadata": {},
   "outputs": [
    {
     "data": {
      "text/plain": [
       "KstestResult(statistic=0.9894453453768528, pvalue=0.9999999999999996)"
      ]
     },
     "execution_count": 155,
     "metadata": {},
     "output_type": "execute_result"
    }
   ],
   "source": [
    "stats.ks_2samp(apple['<OPEN>'], star['<OPEN>'])"
   ]
  },
  {
   "cell_type": "code",
   "execution_count": 156,
   "metadata": {},
   "outputs": [
    {
     "data": {
      "text/plain": [
       "Ttest_indResult(statistic=72.88103938879303, pvalue=0.0)"
      ]
     },
     "execution_count": 156,
     "metadata": {},
     "output_type": "execute_result"
    }
   ],
   "source": [
    "stats.ttest_ind(apple['<OPEN>'], star['<OPEN>'])"
   ]
  },
  {
   "cell_type": "code",
   "execution_count": 162,
   "metadata": {},
   "outputs": [
    {
     "name": "stdout",
     "output_type": "stream",
     "text": [
      " sample:         mean=88.0079,  var= 115.7379, skew= 0.2313,  kurt= -1.3260 \n"
     ]
    }
   ],
   "source": [
    "sstr='%-16s mean=%6.4f,  var= %6.4f, skew= %6.4f,  kurt= %6.4f '\n",
    "n, (smin, smax), sm, sv , ss, sk=stats.describe(star['<OPEN>'])\n",
    "print( sstr % (' sample: ', sm, sv , ss, sk))"
   ]
  },
  {
   "cell_type": "code",
   "execution_count": 163,
   "metadata": {},
   "outputs": [
    {
     "name": "stdout",
     "output_type": "stream",
     "text": [
      "KS-stat   D= 1.000 pvalue = 0.0000\n"
     ]
    }
   ],
   "source": [
    "print('KS-stat   D=%6.3f pvalue = %6.4f' % stats.kstest(star['<OPEN>'],'norm'))"
   ]
  },
  {
   "cell_type": "code",
   "execution_count": 164,
   "metadata": {},
   "outputs": [
    {
     "name": "stdout",
     "output_type": "stream",
     "text": [
      "KS-stat   D= 1.000 pvalue = 0.0000\n"
     ]
    }
   ],
   "source": [
    "print('KS-stat   D=%6.3f pvalue = %6.4f' % stats.kstest(star['<OPEN>'],'t',(12,)))"
   ]
  },
  {
   "cell_type": "code",
   "execution_count": 165,
   "metadata": {},
   "outputs": [
    {
     "name": "stdout",
     "output_type": "stream",
     "text": [
      "[       -inf -2.76376946 -1.81246112 -1.37218364  1.37218364  1.81246112\n",
      "  2.76376946         inf]\n",
      "chisquare for t:      chi2 = 518958.00 pvalue = 0.0000\n",
      "chisquare for normal: chi2 = 1829617.38 pvalue = 0.0000\n"
     ]
    }
   ],
   "source": [
    "quantiles = [0.0, 0.01, 0.05, 0.1, 1-0.10, 1-0.05, 1-0.01, 1.0]\n",
    "crit = stats.t.ppf(quantiles, 10)\n",
    "print(crit)\n",
    "n_sample = star['<OPEN>'].size\n",
    "freqcount = np.histogram(star['<OPEN>'], bins=crit)[0]\n",
    "tprob = np.diff(quantiles)\n",
    "nprob = np.diff(stats.norm.cdf(crit))\n",
    "tch, tpval = stats.chisquare(freqcount, tprob*n_sample)\n",
    "nch, npval = stats.chisquare(freqcount, nprob*n_sample)\n",
    "print('chisquare for t:      chi2 = %6.2f pvalue = %6.4f' % (tch, tpval))\n",
    "print('chisquare for normal: chi2 = %6.2f pvalue = %6.4f' % (nch, npval))"
   ]
  },
  {
   "cell_type": "code",
   "execution_count": 166,
   "metadata": {},
   "outputs": [
    {
     "name": "stdout",
     "output_type": "stream",
     "text": [
      "normal skewtest teststat =  6.758 pvalue = 0.0000\n",
      "normal kurtosistest teststat = -214.744 pvalue = 0.0000\n"
     ]
    }
   ],
   "source": [
    "print('normal skewtest teststat = %6.3f pvalue = %6.4f' % stats.skewtest(star['<OPEN>']))\n",
    "print('normal kurtosistest teststat = %6.3f pvalue = %6.4f' % stats.kurtosistest(star['<OPEN>']))"
   ]
  },
  {
   "cell_type": "markdown",
   "metadata": {},
   "source": [
    "Посмотрим распределения доходности компаний"
   ]
  },
  {
   "cell_type": "code",
   "execution_count": 157,
   "metadata": {},
   "outputs": [
    {
     "data": {
      "text/plain": [
       "<matplotlib.axes._subplots.AxesSubplot at 0x7f8285d66d30>"
      ]
     },
     "execution_count": 157,
     "metadata": {},
     "output_type": "execute_result"
    },
    {
     "data": {
      "image/png": "[encoded data removed]",
      "text/plain": [
       "<Figure size 864x432 with 1 Axes>"
      ]
     },
     "metadata": {
      "needs_background": "light"
     },
     "output_type": "display_data"
    }
   ],
   "source": [
    "apple['<CHANGE>'] = apple['<CLOSE>'].pct_change()*100\n",
    "apple['<CHANGE>'].plot(figsize = (12, 6), fontsize = 12)"
   ]
  },
  {
   "cell_type": "code",
   "execution_count": 158,
   "metadata": {},
   "outputs": [
    {
     "data": {
      "text/plain": [
       "<matplotlib.axes._subplots.AxesSubplot at 0x7f828782a430>"
      ]
     },
     "execution_count": 158,
     "metadata": {},
     "output_type": "execute_result"
    },
    {
     "data": {
      "image/png": "[encoded data removed]",
      "text/plain": [
       "<Figure size 864x432 with 1 Axes>"
      ]
     },
     "metadata": {
      "needs_background": "light"
     },
     "output_type": "display_data"
    }
   ],
   "source": [
    "star['<CHANGE>'] = star['<CLOSE>'].pct_change()*100\n",
    "star['<CHANGE>'].plot(figsize = (12, 6), fontsize = 12)"
   ]
  },
  {
   "cell_type": "markdown",
   "metadata": {},
   "source": [
    "Графики распределения доходности:"
   ]
  },
  {
   "cell_type": "code",
   "execution_count": 159,
   "metadata": {},
   "outputs": [
    {
     "data": {
      "image/png": "[encoded data removed]",
      "text/plain": [
       "<Figure size 720x360 with 1 Axes>"
      ]
     },
     "metadata": {
      "needs_background": "light"
     },
     "output_type": "display_data"
    }
   ],
   "source": [
    "star['<CHANGE>'].hist(bins = 30, figsize = (10,5))\n",
    "plt.xlabel('CHANGE')\n",
    "plt.ylabel('FREQ')\n",
    "plt.show()"
   ]
  },
  {
   "cell_type": "code",
   "execution_count": 160,
   "metadata": {},
   "outputs": [
    {
     "data": {
      "image/png": "[encoded data removed]",
      "text/plain": [
       "<Figure size 720x360 with 1 Axes>"
      ]
     },
     "metadata": {
      "needs_background": "light"
     },
     "output_type": "display_data"
    }
   ],
   "source": [
    "apple['<CHANGE>'].hist(bins = 30, figsize = (10,5))\n",
    "plt.xlabel('CHANGE')\n",
    "plt.ylabel('FREQ')\n",
    "plt.show()"
   ]
  },
  {
   "cell_type": "markdown",
   "metadata": {},
   "source": [
    "Как мы видим, доходность компании apple в заданный промежуток времени в основном была отрицательной"
   ]
  },
  {
   "cell_type": "code",
   "execution_count": 161,
   "metadata": {},
   "outputs": [
    {
     "data": {
      "image/png": "[encoded data removed]",
      "text/plain": [
       "<Figure size 720x720 with 1 Axes>"
      ]
     },
     "metadata": {
      "needs_background": "light"
     },
     "output_type": "display_data"
    }
   ],
   "source": [
    "plt.figure(figsize=(10,10))\n",
    "plt.plot(apple['<CHANGE>'], 'g', label=\"apple daily change\")\n",
    "plt.plot(star['<CHANGE>'], 'r', label=\"starbucks daily change\")\n",
    "plt.legend()\n",
    "plt.show()"
   ]
  }
 ],
 "metadata": {
  "kernelspec": {
   "display_name": "Python 3",
   "language": "python",
   "name": "python3"
  },
  "language_info": {
   "codemirror_mode": {
    "name": "ipython",
    "version": 3
   },
   "file_extension": ".py",
   "mimetype": "text/x-python",
   "name": "python",
   "nbconvert_exporter": "python",
   "pygments_lexer": "ipython3",
   "version": "3.8.3"
  }
 },
 "nbformat": 4,
 "nbformat_minor": 4
}

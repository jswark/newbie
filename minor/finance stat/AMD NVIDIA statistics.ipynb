{
 "cells": [
  {
   "cell_type": "markdown",
   "metadata": {},
   "source": [
    "TASK\n",
    "построить графики для биржевых котировок (двух акций любых), например за час или ежедневные, \n",
    "1) считать, \n",
    "2) извлечь столбцы необходимые для работы, \n",
    "3) для каждого из столбцов, график, распределение, взаимное рассеивание для двух котировок, гистограмму, ряды, характеристики (среднее, медиана, etc), \n",
    "4) построить дополнительный столбец – волатильность volp=(h-l)^2 для цены, построить график волатильности"
   ]
  },
  {
   "cell_type": "code",
   "execution_count": 34,
   "metadata": {},
   "outputs": [],
   "source": [
    "import pandas as pd\n",
    "import numpy as np\n",
    "import matplotlib.pyplot as plt\n",
    "import os\n",
    "import scipy as scp"
   ]
  },
  {
   "cell_type": "code",
   "execution_count": 35,
   "metadata": {},
   "outputs": [],
   "source": [
    "nvidia = pd.read_csv('NVDA-RM.csv', sep=\";\")\n",
    "amd = pd.read_csv('AMD-RM.csv', sep=\";\")"
   ]
  },
  {
   "cell_type": "code",
   "execution_count": 36,
   "metadata": {},
   "outputs": [
    {
     "data": {
      "text/html": [
       "<div>\n",
       "<style scoped>\n",
       "    .dataframe tbody tr th:only-of-type {\n",
       "        vertical-align: middle;\n",
       "    }\n",
       "\n",
       "    .dataframe tbody tr th {\n",
       "        vertical-align: top;\n",
       "    }\n",
       "\n",
       "    .dataframe thead th {\n",
       "        text-align: right;\n",
       "    }\n",
       "</style>\n",
       "<table border=\"1\" class=\"dataframe\">\n",
       "  <thead>\n",
       "    <tr style=\"text-align: right;\">\n",
       "      <th></th>\n",
       "      <th>&lt;DATE&gt;</th>\n",
       "      <th>&lt;TIME&gt;</th>\n",
       "      <th>&lt;OPEN&gt;</th>\n",
       "      <th>&lt;HIGH&gt;</th>\n",
       "      <th>&lt;LOW&gt;</th>\n",
       "      <th>&lt;CLOSE&gt;</th>\n",
       "      <th>&lt;VOL&gt;</th>\n",
       "    </tr>\n",
       "  </thead>\n",
       "  <tbody>\n",
       "    <tr>\n",
       "      <th>0</th>\n",
       "      <td>20200824</td>\n",
       "      <td>0</td>\n",
       "      <td>37893.0</td>\n",
       "      <td>38218.0</td>\n",
       "      <td>37800.0</td>\n",
       "      <td>38218.0</td>\n",
       "      <td>30</td>\n",
       "    </tr>\n",
       "    <tr>\n",
       "      <th>1</th>\n",
       "      <td>20200825</td>\n",
       "      <td>0</td>\n",
       "      <td>38900.0</td>\n",
       "      <td>45000.0</td>\n",
       "      <td>37728.0</td>\n",
       "      <td>39600.0</td>\n",
       "      <td>3058</td>\n",
       "    </tr>\n",
       "    <tr>\n",
       "      <th>2</th>\n",
       "      <td>20200826</td>\n",
       "      <td>0</td>\n",
       "      <td>39650.0</td>\n",
       "      <td>39650.0</td>\n",
       "      <td>38271.0</td>\n",
       "      <td>38600.0</td>\n",
       "      <td>1295</td>\n",
       "    </tr>\n",
       "    <tr>\n",
       "      <th>3</th>\n",
       "      <td>20200827</td>\n",
       "      <td>0</td>\n",
       "      <td>38489.0</td>\n",
       "      <td>38744.0</td>\n",
       "      <td>37900.0</td>\n",
       "      <td>38222.0</td>\n",
       "      <td>692</td>\n",
       "    </tr>\n",
       "    <tr>\n",
       "      <th>4</th>\n",
       "      <td>20200828</td>\n",
       "      <td>0</td>\n",
       "      <td>38102.0</td>\n",
       "      <td>39078.0</td>\n",
       "      <td>37310.0</td>\n",
       "      <td>38900.0</td>\n",
       "      <td>923</td>\n",
       "    </tr>\n",
       "  </tbody>\n",
       "</table>\n",
       "</div>"
      ],
      "text/plain": [
       "     <DATE>  <TIME>   <OPEN>   <HIGH>    <LOW>  <CLOSE>  <VOL>\n",
       "0  20200824       0  37893.0  38218.0  37800.0  38218.0     30\n",
       "1  20200825       0  38900.0  45000.0  37728.0  39600.0   3058\n",
       "2  20200826       0  39650.0  39650.0  38271.0  38600.0   1295\n",
       "3  20200827       0  38489.0  38744.0  37900.0  38222.0    692\n",
       "4  20200828       0  38102.0  39078.0  37310.0  38900.0    923"
      ]
     },
     "execution_count": 36,
     "metadata": {},
     "output_type": "execute_result"
    }
   ],
   "source": [
    "nvidia.head()"
   ]
  },
  {
   "cell_type": "code",
   "execution_count": 37,
   "metadata": {},
   "outputs": [
    {
     "data": {
      "text/html": [
       "<div>\n",
       "<style scoped>\n",
       "    .dataframe tbody tr th:only-of-type {\n",
       "        vertical-align: middle;\n",
       "    }\n",
       "\n",
       "    .dataframe tbody tr th {\n",
       "        vertical-align: top;\n",
       "    }\n",
       "\n",
       "    .dataframe thead th {\n",
       "        text-align: right;\n",
       "    }\n",
       "</style>\n",
       "<table border=\"1\" class=\"dataframe\">\n",
       "  <thead>\n",
       "    <tr style=\"text-align: right;\">\n",
       "      <th></th>\n",
       "      <th>&lt;DATE&gt;</th>\n",
       "      <th>&lt;TIME&gt;</th>\n",
       "      <th>&lt;OPEN&gt;</th>\n",
       "      <th>&lt;HIGH&gt;</th>\n",
       "      <th>&lt;LOW&gt;</th>\n",
       "      <th>&lt;CLOSE&gt;</th>\n",
       "      <th>&lt;VOL&gt;</th>\n",
       "    </tr>\n",
       "  </thead>\n",
       "  <tbody>\n",
       "    <tr>\n",
       "      <th>0</th>\n",
       "      <td>20200825</td>\n",
       "      <td>0</td>\n",
       "      <td>6254.0</td>\n",
       "      <td>6560.0</td>\n",
       "      <td>6190.0</td>\n",
       "      <td>6549.0</td>\n",
       "      <td>7708</td>\n",
       "    </tr>\n",
       "    <tr>\n",
       "      <th>1</th>\n",
       "      <td>20200826</td>\n",
       "      <td>0</td>\n",
       "      <td>6550.0</td>\n",
       "      <td>6676.0</td>\n",
       "      <td>6460.0</td>\n",
       "      <td>6517.0</td>\n",
       "      <td>3635</td>\n",
       "    </tr>\n",
       "    <tr>\n",
       "      <th>2</th>\n",
       "      <td>20200827</td>\n",
       "      <td>0</td>\n",
       "      <td>6493.0</td>\n",
       "      <td>6533.0</td>\n",
       "      <td>6234.0</td>\n",
       "      <td>6314.0</td>\n",
       "      <td>2214</td>\n",
       "    </tr>\n",
       "    <tr>\n",
       "      <th>3</th>\n",
       "      <td>20200828</td>\n",
       "      <td>0</td>\n",
       "      <td>6250.0</td>\n",
       "      <td>6438.0</td>\n",
       "      <td>6208.0</td>\n",
       "      <td>6277.0</td>\n",
       "      <td>2996</td>\n",
       "    </tr>\n",
       "    <tr>\n",
       "      <th>4</th>\n",
       "      <td>20200831</td>\n",
       "      <td>0</td>\n",
       "      <td>6198.0</td>\n",
       "      <td>6889.0</td>\n",
       "      <td>6190.0</td>\n",
       "      <td>6680.0</td>\n",
       "      <td>5407</td>\n",
       "    </tr>\n",
       "  </tbody>\n",
       "</table>\n",
       "</div>"
      ],
      "text/plain": [
       "     <DATE>  <TIME>  <OPEN>  <HIGH>   <LOW>  <CLOSE>  <VOL>\n",
       "0  20200825       0  6254.0  6560.0  6190.0   6549.0   7708\n",
       "1  20200826       0  6550.0  6676.0  6460.0   6517.0   3635\n",
       "2  20200827       0  6493.0  6533.0  6234.0   6314.0   2214\n",
       "3  20200828       0  6250.0  6438.0  6208.0   6277.0   2996\n",
       "4  20200831       0  6198.0  6889.0  6190.0   6680.0   5407"
      ]
     },
     "execution_count": 37,
     "metadata": {},
     "output_type": "execute_result"
    }
   ],
   "source": [
    "amd.head()"
   ]
  },
  {
   "cell_type": "code",
   "execution_count": 48,
   "metadata": {},
   "outputs": [
    {
     "data": {
      "text/plain": [
       "(64, 7)"
      ]
     },
     "execution_count": 48,
     "metadata": {},
     "output_type": "execute_result"
    }
   ],
   "source": [
    "amd.shape"
   ]
  },
  {
   "cell_type": "code",
   "execution_count": 38,
   "metadata": {},
   "outputs": [
    {
     "data": {
      "text/html": [
       "<div>\n",
       "<style scoped>\n",
       "    .dataframe tbody tr th:only-of-type {\n",
       "        vertical-align: middle;\n",
       "    }\n",
       "\n",
       "    .dataframe tbody tr th {\n",
       "        vertical-align: top;\n",
       "    }\n",
       "\n",
       "    .dataframe thead th {\n",
       "        text-align: right;\n",
       "    }\n",
       "</style>\n",
       "<table border=\"1\" class=\"dataframe\">\n",
       "  <thead>\n",
       "    <tr style=\"text-align: right;\">\n",
       "      <th></th>\n",
       "      <th>&lt;DATE&gt;</th>\n",
       "      <th>&lt;OPEN&gt;</th>\n",
       "      <th>&lt;HIGH&gt;</th>\n",
       "      <th>&lt;LOW&gt;</th>\n",
       "      <th>&lt;CLOSE&gt;</th>\n",
       "    </tr>\n",
       "  </thead>\n",
       "  <tbody>\n",
       "    <tr>\n",
       "      <th>0</th>\n",
       "      <td>20200824</td>\n",
       "      <td>37893.0</td>\n",
       "      <td>38218.0</td>\n",
       "      <td>37800.0</td>\n",
       "      <td>38218.0</td>\n",
       "    </tr>\n",
       "    <tr>\n",
       "      <th>1</th>\n",
       "      <td>20200825</td>\n",
       "      <td>38900.0</td>\n",
       "      <td>45000.0</td>\n",
       "      <td>37728.0</td>\n",
       "      <td>39600.0</td>\n",
       "    </tr>\n",
       "    <tr>\n",
       "      <th>2</th>\n",
       "      <td>20200826</td>\n",
       "      <td>39650.0</td>\n",
       "      <td>39650.0</td>\n",
       "      <td>38271.0</td>\n",
       "      <td>38600.0</td>\n",
       "    </tr>\n",
       "    <tr>\n",
       "      <th>3</th>\n",
       "      <td>20200827</td>\n",
       "      <td>38489.0</td>\n",
       "      <td>38744.0</td>\n",
       "      <td>37900.0</td>\n",
       "      <td>38222.0</td>\n",
       "    </tr>\n",
       "    <tr>\n",
       "      <th>4</th>\n",
       "      <td>20200828</td>\n",
       "      <td>38102.0</td>\n",
       "      <td>39078.0</td>\n",
       "      <td>37310.0</td>\n",
       "      <td>38900.0</td>\n",
       "    </tr>\n",
       "  </tbody>\n",
       "</table>\n",
       "</div>"
      ],
      "text/plain": [
       "     <DATE>   <OPEN>   <HIGH>    <LOW>  <CLOSE>\n",
       "0  20200824  37893.0  38218.0  37800.0  38218.0\n",
       "1  20200825  38900.0  45000.0  37728.0  39600.0\n",
       "2  20200826  39650.0  39650.0  38271.0  38600.0\n",
       "3  20200827  38489.0  38744.0  37900.0  38222.0\n",
       "4  20200828  38102.0  39078.0  37310.0  38900.0"
      ]
     },
     "execution_count": 38,
     "metadata": {},
     "output_type": "execute_result"
    }
   ],
   "source": [
    "nvidia_new = nvidia[['<DATE>','<OPEN>', '<HIGH>', '<LOW>', '<CLOSE>']].copy() \n",
    "nvidia_new.head()"
   ]
  },
  {
   "cell_type": "code",
   "execution_count": 60,
   "metadata": {},
   "outputs": [
    {
     "data": {
      "text/html": [
       "<div>\n",
       "<style scoped>\n",
       "    .dataframe tbody tr th:only-of-type {\n",
       "        vertical-align: middle;\n",
       "    }\n",
       "\n",
       "    .dataframe tbody tr th {\n",
       "        vertical-align: top;\n",
       "    }\n",
       "\n",
       "    .dataframe thead th {\n",
       "        text-align: right;\n",
       "    }\n",
       "</style>\n",
       "<table border=\"1\" class=\"dataframe\">\n",
       "  <thead>\n",
       "    <tr style=\"text-align: right;\">\n",
       "      <th></th>\n",
       "      <th>&lt;OPEN&gt;</th>\n",
       "      <th>&lt;HIGH&gt;</th>\n",
       "      <th>&lt;LOW&gt;</th>\n",
       "      <th>&lt;CLOSE&gt;</th>\n",
       "    </tr>\n",
       "  </thead>\n",
       "  <tbody>\n",
       "    <tr>\n",
       "      <th>0</th>\n",
       "      <td>6254.0</td>\n",
       "      <td>6560.0</td>\n",
       "      <td>6190.0</td>\n",
       "      <td>6549.0</td>\n",
       "    </tr>\n",
       "    <tr>\n",
       "      <th>1</th>\n",
       "      <td>6550.0</td>\n",
       "      <td>6676.0</td>\n",
       "      <td>6460.0</td>\n",
       "      <td>6517.0</td>\n",
       "    </tr>\n",
       "    <tr>\n",
       "      <th>2</th>\n",
       "      <td>6493.0</td>\n",
       "      <td>6533.0</td>\n",
       "      <td>6234.0</td>\n",
       "      <td>6314.0</td>\n",
       "    </tr>\n",
       "    <tr>\n",
       "      <th>3</th>\n",
       "      <td>6250.0</td>\n",
       "      <td>6438.0</td>\n",
       "      <td>6208.0</td>\n",
       "      <td>6277.0</td>\n",
       "    </tr>\n",
       "    <tr>\n",
       "      <th>4</th>\n",
       "      <td>6198.0</td>\n",
       "      <td>6889.0</td>\n",
       "      <td>6190.0</td>\n",
       "      <td>6680.0</td>\n",
       "    </tr>\n",
       "  </tbody>\n",
       "</table>\n",
       "</div>"
      ],
      "text/plain": [
       "   <OPEN>  <HIGH>   <LOW>  <CLOSE>\n",
       "0  6254.0  6560.0  6190.0   6549.0\n",
       "1  6550.0  6676.0  6460.0   6517.0\n",
       "2  6493.0  6533.0  6234.0   6314.0\n",
       "3  6250.0  6438.0  6208.0   6277.0\n",
       "4  6198.0  6889.0  6190.0   6680.0"
      ]
     },
     "execution_count": 60,
     "metadata": {},
     "output_type": "execute_result"
    }
   ],
   "source": [
    "amd_new = amd[['<OPEN>', '<HIGH>', '<LOW>', '<CLOSE>']].copy()\n",
    "amd_new.head()"
   ]
  },
  {
   "cell_type": "code",
   "execution_count": 61,
   "metadata": {},
   "outputs": [
    {
     "data": {
      "text/plain": [
       "(array([ 3.,  5.,  6.,  6., 13., 11.,  9.,  4.,  5.,  2.]),\n",
       " array([5623. , 5759.2, 5895.4, 6031.6, 6167.8, 6304. , 6440.2, 6576.4,\n",
       "        6712.6, 6848.8, 6985. ]),\n",
       " <a list of 10 Patch objects>)"
      ]
     },
     "execution_count": 61,
     "metadata": {},
     "output_type": "execute_result"
    },
    {
     "data": {
      "image/png": "[encoded data removed]",
      "text/plain": [
       "<Figure size 432x288 with 1 Axes>"
      ]
     },
     "metadata": {
      "needs_background": "light"
     },
     "output_type": "display_data"
    }
   ],
   "source": [
    "plt.hist(amd_new['<OPEN>'])"
   ]
  },
  {
   "cell_type": "code",
   "execution_count": 62,
   "metadata": {},
   "outputs": [
    {
     "data": {
      "text/plain": [
       "(64, 5)"
      ]
     },
     "execution_count": 62,
     "metadata": {},
     "output_type": "execute_result"
    }
   ],
   "source": [
    "amd_new['volp']=pow((amd_new['<HIGH>']-amd_new['<LOW>']),2)\n",
    "amd_new.shape"
   ]
  },
  {
   "cell_type": "code",
   "execution_count": 73,
   "metadata": {},
   "outputs": [
    {
     "data": {
      "image/png": "[encoded data removed]",
      "text/plain": [
       "<Figure size 864x504 with 5 Axes>"
      ]
     },
     "metadata": {
      "needs_background": "light"
     },
     "output_type": "display_data"
    }
   ],
   "source": [
    "xcol=amd_new.columns.to_list()\n",
    "plt.figure(figsize=(12, 7))\n",
    "i = 1\n",
    "for a in xcol:\n",
    "    plt.subplot(3, 2, i)\n",
    "    plt.plot(amd_new[a])\n",
    "    i+=1"
   ]
  },
  {
   "cell_type": "code",
   "execution_count": 75,
   "metadata": {},
   "outputs": [
    {
     "data": {
      "image/png": "[encoded data removed]",
      "text/plain": [
       "<Figure size 864x504 with 5 Axes>"
      ]
     },
     "metadata": {
      "needs_background": "light"
     },
     "output_type": "display_data"
    }
   ],
   "source": [
    "xcol=amd_new.columns.to_list()\n",
    "plt.figure(figsize=(12, 7))\n",
    "i = 1\n",
    "for a in xcol:\n",
    "    plt.subplot(3, 2, i)\n",
    "    plt.hist(amd_new[a])\n",
    "    i+=1"
   ]
  },
  {
   "cell_type": "code",
   "execution_count": null,
   "metadata": {},
   "outputs": [],
   "source": []
  }
 ],
 "metadata": {
  "kernelspec": {
   "display_name": "Python 3",
   "language": "python",
   "name": "python3"
  },
  "language_info": {
   "codemirror_mode": {
    "name": "ipython",
    "version": 3
   },
   "file_extension": ".py",
   "mimetype": "text/x-python",
   "name": "python",
   "nbconvert_exporter": "python",
   "pygments_lexer": "ipython3",
   "version": "3.8.3"
  }
 },
 "nbformat": 4,
 "nbformat_minor": 4
}
